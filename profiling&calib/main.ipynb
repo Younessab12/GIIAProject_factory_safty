{
 "cells": [
  {
   "cell_type": "code",
   "execution_count": 17,
   "metadata": {},
   "outputs": [],
   "source": [
    "import cv2\n",
    "import mediapipe as mp\n",
    "import time\n",
    "import numpy as np\n",
    "import matplotlib.pyplot as plt"
   ]
  },
  {
   "cell_type": "code",
   "execution_count": 18,
   "metadata": {},
   "outputs": [],
   "source": [
    "##mediapipe hand detection\n",
    "mp_drawing = mp.solutions.drawing_utils\n",
    "mp_holistic = mp.solutions.holistic\n",
    "mp_hands = mp.solutions.hands\n",
    "mp_pose = mp.solutions.pose"
   ]
  },
  {
   "cell_type": "code",
   "execution_count": 19,
   "metadata": {},
   "outputs": [],
   "source": [
    "import time\n",
    "import cv2\n",
    "\n",
    "class Calib:\n",
    "  def __init__(self):\n",
    "    self.start_time= time.time()\n",
    "    self.duration = 0\n",
    "    pass\n",
    "\n",
    "  def process(self, frame, holistic_res):\n",
    "    self.duration = time.time()- self.start_time\n",
    "    \n",
    "    self.display_image_with_text(frame, f'dur : {self.duration}', \"calib\")\n",
    "\n",
    "    return self.get_state()\n",
    "\n",
    "  def skin_color_detection(self):\n",
    "    pass\n",
    "\n",
    "  def calibrate_yawning(self):\n",
    "    pass\n",
    "\n",
    "  def calibrate_talking(self):\n",
    "    pass\n",
    "\n",
    "  def calibrate_general(self):\n",
    "    pass\n",
    "\n",
    "  def get_state(self):\n",
    "    pass\n",
    "\n",
    "  def display_image_with_text(self, img, text, title):\n",
    "    cv2.putText(\n",
    "      img = img,\n",
    "      text = text,\n",
    "      org = (200, 200),\n",
    "      fontFace = cv2.FONT_HERSHEY_DUPLEX,\n",
    "      fontScale = 1.0,\n",
    "      color = (125, 246, 55),\n",
    "      thickness = 1\n",
    "    )\n",
    "    cv2.imshow(title, img)\n",
    "\n",
    "calibration_process = Calib()"
   ]
  },
  {
   "cell_type": "code",
   "execution_count": 20,
   "metadata": {},
   "outputs": [],
   "source": [
    "cap = cv2.VideoCapture(0)\n",
    "StartCoords = []\n",
    "pose = mp.solutions.pose.Pose(model_complexity=2,\n",
    "    enable_segmentation=True,\n",
    "    min_detection_confidence=0.5)\n",
    "hand = mp.solutions.hands.Hands(max_num_hands=2,\n",
    "    min_detection_confidence=0.5)\n",
    "\n",
    "\n",
    "with mp_holistic.Holistic(min_detection_confidence=0.5, min_tracking_confidence=0.5) as holistic:\n",
    "    while cap.isOpened():\n",
    "        ret, frame = cap.read()\n",
    "        image = np.zeros(frame.shape, dtype=np.uint8)\n",
    "        img = cv2.cvtColor(frame, cv2.COLOR_BGR2RGB)\n",
    "    \n",
    "\n",
    "        img = cv2.flip(img, 1)\n",
    "\n",
    "        res = holistic.process(img)\n",
    "\n",
    "        pose_res = pose.process(img)\n",
    "        hand_res = hand.process(img)\n",
    "\n",
    "        img = cv2.cvtColor(img, cv2.COLOR_RGB2BGR)\n",
    "        mp_drawing.draw_landmarks(img, res.face_landmarks, mp_holistic.FACEMESH_CONTOURS,\n",
    "                                  mp_drawing.DrawingSpec(color=(255, 110, 10), thickness=1, circle_radius=1),\n",
    "                                    mp_drawing.DrawingSpec(color=(255, 256, 121), thickness=1, circle_radius=1)\n",
    "                                    )\n",
    "        \n",
    "        mp_drawing.draw_landmarks(img, pose_res.pose_landmarks, mp_pose.POSE_CONNECTIONS,\n",
    "                          mp_drawing.DrawingSpec(color=(245, 117, 66), thickness=2, circle_radius=4),\n",
    "                            mp_drawing.DrawingSpec(color=(245, 66, 230), thickness=2, circle_radius=2)\n",
    "                            )\n",
    "        \n",
    "        calibration_process.process(frame=img, holistic_res=res)\n",
    "        \n",
    "        if cv2.waitKey(10) & 0xFF == ord('q'):\n",
    "            break"
   ]
  },
  {
   "cell_type": "code",
   "execution_count": 21,
   "metadata": {},
   "outputs": [],
   "source": [
    "cap.release()\n",
    "cv2.destroyAllWindows()"
   ]
  }
 ],
 "metadata": {
  "kernelspec": {
   "display_name": "giia",
   "language": "python",
   "name": "python3"
  },
  "language_info": {
   "codemirror_mode": {
    "name": "ipython",
    "version": 3
   },
   "file_extension": ".py",
   "mimetype": "text/x-python",
   "name": "python",
   "nbconvert_exporter": "python",
   "pygments_lexer": "ipython3",
   "version": "3.9.18"
  }
 },
 "nbformat": 4,
 "nbformat_minor": 2
}
