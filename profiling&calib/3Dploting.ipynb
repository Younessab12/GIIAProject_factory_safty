{
 "cells": [
  {
   "cell_type": "code",
   "execution_count": 10,
   "metadata": {},
   "outputs": [],
   "source": [
    "import matplotlib.pyplot as plt\n",
    "import numpy as np\n",
    "import json"
   ]
  },
  {
   "cell_type": "code",
   "execution_count": 11,
   "metadata": {},
   "outputs": [],
   "source": [
    "file = open('calib_records/calibration_youness aabibi.json')\n",
    "data = json.load(file)"
   ]
  },
  {
   "cell_type": "code",
   "execution_count": 12,
   "metadata": {},
   "outputs": [],
   "source": [
    "yawnin_data = data[\"2\"]\n",
    "yawning_data_lips = yawnin_data[\"lips\"]\n",
    "yawning_data_left_eye = yawnin_data[\"left_eye\"]\n",
    "yawning_data_right_eye = yawnin_data[\"right_eye\"]\n",
    "talkin_data = data[\"3\"]\n",
    "talking_data_lips = talkin_data[\"lips\"]\n",
    "talking_data_left_eye = talkin_data[\"left_eye\"]\n",
    "talkin_data_right_eye = talkin_data[\"right_eye\"]\n",
    "orginale_data = data[\"1\"]\n",
    "orginale_data_lips = orginale_data[\"lips\"]\n",
    "orginale_data_left_eye = orginale_data[\"left_eye\"]\n",
    "orginale_data_right_eye = orginale_data[\"right_eye\"]\n"
   ]
  },
  {
   "cell_type": "code",
   "execution_count": 14,
   "metadata": {},
   "outputs": [
    {
     "name": "stdout",
     "output_type": "stream",
     "text": [
      "Using matplotlib backend: TkAgg\n"
     ]
    }
   ],
   "source": [
    "%matplotlib\n",
    "ax = plt.axes(projection='3d')\n",
    "ax.plot3D( yawning_data_right_eye, yawning_data_left_eye,yawning_data_lips , 'o')\n",
    "ax.plot3D(talkin_data_right_eye, talking_data_left_eye,talking_data_lips , 'o')\n",
    "ax.plot3D( orginale_data_right_eye, orginale_data_left_eye,orginale_data_lips, 'o')\n",
    "\n",
    "plt.show()"
   ]
  },
  {
   "cell_type": "code",
   "execution_count": null,
   "metadata": {},
   "outputs": [],
   "source": []
  }
 ],
 "metadata": {
  "kernelspec": {
   "display_name": "Factory_Safety",
   "language": "python",
   "name": "python3"
  },
  "language_info": {
   "codemirror_mode": {
    "name": "ipython",
    "version": 3
   },
   "file_extension": ".py",
   "mimetype": "text/x-python",
   "name": "python",
   "nbconvert_exporter": "python",
   "pygments_lexer": "ipython3",
   "version": "3.9.18"
  }
 },
 "nbformat": 4,
 "nbformat_minor": 2
}
