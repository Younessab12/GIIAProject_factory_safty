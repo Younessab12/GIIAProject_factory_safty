{
 "cells": [
  {
   "cell_type": "code",
   "execution_count": 1,
   "metadata": {},
   "outputs": [],
   "source": [
    "from sklearn.neighbors import KNeighborsClassifier"
   ]
  },
  {
   "cell_type": "code",
   "execution_count": 2,
   "metadata": {},
   "outputs": [
    {
     "name": "stdout",
     "output_type": "stream",
     "text": [
      "[0, 0, 0, 0, 0, 0, 0, 0, 0, 0, 0, 0, 0, 0, 0, 0, 0, 0, 0, 0, 0, 0, 0, 0, 0, 0, 0, 0, 0, 0, 0, 0, 0, 0, 0, 0, 0, 0, 0, 0, 0, 0, 0, 0, 0, 0, 0, 0, 0, 0, 0, 0, 0, 0, 0, 0, 0, 0, 0, 0, 0, 0, 0, 0, 0, 0, 0, 0, 0, 0, 0, 0, 0, 0, 0, 0, 0, 0, 0, 0, 0, 0, 0, 0, 0, 0, 0, 0, 0, 0, 0, 0, 0, 0, 0, 0, 0, 0, 0, 0, 0, 1, 1, 1, 1, 1, 1, 1, 1, 1, 1, 1, 1, 1, 1, 1, 1, 1, 1, 1, 1, 1, 1, 1, 1, 1, 1, 1, 1, 1, 1, 1, 1, 1, 1, 1, 1, 1, 1, 1, 1, 1, 1, 1, 1, 1, 1, 1, 1, 1, 1, 1, 1, 1, 1, 1, 1, 1, 1, 1, 1, 1, 1, 1, 1, 1, 1, 1, 1, 1, 1, 1, 1, 1, 1, 1, 1, 1, 1, 1, 1, 1, 1, 1, 1, 1, 1, 1, 1, 1, 1, 1, 1, 1, 1, 1, 1, 1, 1, 1, 1, 1, 2, 2, 2, 2, 2, 2, 2, 2, 2, 2, 2, 2, 2, 2, 2, 2, 2, 2, 2, 2, 2, 2, 2, 2, 2, 2, 2, 2, 2, 2, 2, 2, 2, 2, 2, 2, 2, 2, 2, 2, 2, 2, 2, 2, 2, 2, 2, 2, 2, 2, 2, 2, 2, 2, 2, 2, 2, 2, 2, 2, 2, 2, 2, 2, 2, 2, 2, 2, 2, 2, 2, 2, 2, 2, 2, 2, 2, 2, 2, 2, 2, 2, 2, 2, 2, 2, 2, 2, 2, 2, 2, 2, 2, 2, 2, 2, 2, 2, 2, 2, 2, 2, 2, 2, 2, 2, 2, 2, 2, 2, 2, 2, 2, 2, 2, 2, 2, 2, 2, 2, 2, 2, 2, 2, 2, 2, 2, 2, 2, 2, 2, 2, 2, 2, 2, 2, 2, 2, 2, 2, 2, 2, 2, 2, 2, 2, 2, 2, 2, 2, 2, 2, 2, 2, 2, 2, 2, 2, 2, 2, 2, 2, 2, 2, 2, 2, 2, 2, 2, 2, 2, 2, 2, 2, 2, 2, 2, 2, 2, 2, 2, 2, 2, 2, 2, 2, 2, 2, 2, 2, 2, 2, 2, 2, 2, 2, 2, 2, 2, 2, 2, 2, 2, 2, 2, 2, 2, 2, 2, 2, 2, 2, 2, 2, 2, 2, 2, 2, 2, 2, 2, 2, 2, 2, 2, 2, 2, 2, 2, 2, 2, 2, 2, 2, 2, 2, 2, 2, 2, 2, 2, 2, 2, 2, 2, 2, 2, 2, 2, 2, 2]\n"
     ]
    }
   ],
   "source": [
    "import json\n",
    "import numpy as np\n",
    "\n",
    "def Face_Assessment():\n",
    "    STD=0\n",
    "    YAWNING=1\n",
    "    TALKING=2\n",
    "    def __init__(self, file_name):\n",
    "        # load data from json file\n",
    "        with open(file_name) as f:\n",
    "            data = json.load(f)\n",
    "\n",
    "        std = data['1']\n",
    "        yawning = data['2']\n",
    "        talking = data['3']\n",
    "\n",
    "        # create training data\n",
    "        X = []\n",
    "        y = []\n",
    "\n",
    "        lips = \"lips\"\n",
    "        left_eye = \"left_eye\"\n",
    "        right_eye = \"right_eye\"\n",
    "\n",
    "        std_arr = np.transpose(np.array([std[lips], std[left_eye], std[right_eye]]))\n",
    "        yawning_arr = np.transpose(np.array([yawning[lips], yawning[left_eye], yawning[right_eye]]))\n",
    "        talking_arr = np.transpose(np.array([talking[lips], talking[left_eye], talking[right_eye]]))\n",
    "\n",
    "        STD=0\n",
    "        YAWNING=1\n",
    "        TALKING=2\n",
    "\n",
    "        for i in std_arr:\n",
    "            X.append(i)\n",
    "            y.append(STD)\n",
    "        for i in yawning_arr:\n",
    "            X.append(i)\n",
    "            y.append(YAWNING)\n",
    "        for i in talking_arr:\n",
    "            X.append(i)\n",
    "            y.append(TALKING)\n",
    "\n",
    "        neigh = KNeighborsClassifier(n_neighbors=5)\n",
    "        self.detector = neigh.fit(X, y)\n",
    "\n",
    "    def assess(self, lips, left_eye, right_eye):\n",
    "        arr = np.array([lips, left_eye, right_eye])\n",
    "        return self.detector.predict(arr)\n"
   ]
  },
  {
   "cell_type": "markdown",
   "metadata": {},
   "source": [
    "TESTING \n"
   ]
  },
  {
   "cell_type": "code",
   "execution_count": 5,
   "metadata": {},
   "outputs": [
    {
     "name": "stdout",
     "output_type": "stream",
     "text": [
      "[1, 0, 2, 2, 2, 2, 2, 2, 1, 2, 2, 2, 2, 2, 2, 1, 2, 2, 1, 2, 2, 1, 1, 2, 2, 2, 1, 0, 0, 0, 2, 2, 2, 0, 0, 2, 2, 2, 2, 1, 1, 2, 2, 1, 2]\n",
      "0.9338235294117647\n",
      "              precision    recall  f1-score   support\n",
      "\n",
      "           0       0.91      0.86      0.89        95\n",
      "           1       1.00      0.92      0.96        91\n",
      "           2       0.92      0.97      0.94       222\n",
      "\n",
      "    accuracy                           0.93       408\n",
      "   macro avg       0.94      0.92      0.93       408\n",
      "weighted avg       0.94      0.93      0.93       408\n",
      "\n",
      "[[ 82   0  13]\n",
      " [  1  84   6]\n",
      " [  7   0 215]]\n",
      "[1 2 2 2 0 0 0 2 2 0 0 2 1 0 2 1 0 2 0 1 0 2 0 2 1 2 0 2 1 2 0 2 0 1 2 2 1\n",
      " 2 2 0 1 2 1 2 0 2 2 2 2 0 2 2 0 2 2 0 1 2 2 0 1 0 2 2 2 2 1 0 2 2 0 1 2 2\n",
      " 1 2 0 1 2 2 2 2 1 2 1 2 0 2 0 2 2 2 2 2 0 2 2 2 2 1 2 1 0 1 2 1 1 0 0 2 1\n",
      " 2 2 2 2 1 1 1 0 2 1 2 2 2 2 1 2 2 2 2 1 2 1 0 2 1 2 0 2 0 2 2 0 2 2 2 2 0\n",
      " 2 2 1 2 1 2 1 0 0 0 2 1 2 2 2 2 0 1 2 1 2 0 0 1 1 0 2 0 2 2 1 1 0 2 2 2 2\n",
      " 2 2 2 2 0 0 0 2 1 0 2 2 0 2 2 2 2 0 2 2 2 1 2 0 0 2 1 2 2 0 1 2 2 1 2 0 2\n",
      " 2 2 2 0 1 1 2 0 2 2 2 1 2 2 2 1 2 2 2 0 2 2 2 1 2 2 2 1 2 1 2 0 2 2 2 2 2\n",
      " 2 2 0 2 2 2 2 2 0 2 2 2 0 2 2 0 2 1 2 2 2 0 1 2 2 0 1 2 0 2 0 2 1 2 2 0 1\n",
      " 1 2 0 1 1 2 1 1 0 2 2 2 2 1 2 2 1 0 2 1 2 2 1 2 2 1 2 2 1 2 2 2 1 2 2 0 0\n",
      " 0 2 2 2 2 1 0 1 0 2 2 2 1 2 2 0 0 2 1 2 0 0 0 1 1 0 0 2 2 2 2 1 1 2 2 2 2\n",
      " 0 1 2 1 2 0 2 0 2 2 2 2 2 0 2 0 1 0 2 1 2 1 2 2 0 2 2 2 2 2 2 2 2 2 0 2 2\n",
      " 2]\n"
     ]
    }
   ],
   "source": [
    "\n",
    "from sklearn.model_selection import train_test_split\n",
    "X_train, X_test, y_train, y_test = train_test_split(X, y, test_size=0.9)\n",
    "\n",
    "from sklearn.neighbors import KNeighborsClassifier\n",
    "from sklearn.pipeline import Pipeline\n",
    "from sklearn.preprocessing import StandardScaler\n",
    "from sklearn import neighbors, datasets, preprocessing\n",
    "from sklearn.model_selection import train_test_split\n",
    "from sklearn.metrics import accuracy_score\n",
    "from sklearn.metrics import classification_report\n",
    "from sklearn.metrics import confusion_matrix\n",
    "print(y_train)\n",
    "scaler = preprocessing.StandardScaler().fit(X_train)\n",
    "Xtrain = scaler.transform(X_train)\n",
    "Xtest = scaler.transform(X_test)\n",
    "\n",
    "knn = neighbors.KNeighborsClassifier(n_neighbors=5)\n",
    "knn.fit(Xtrain, y_train)\n",
    "y_pred = knn.predict(Xtest)\n",
    "\n",
    "print(accuracy_score(y_test, y_pred))\n",
    "print(classification_report(y_test, y_pred))\n",
    "print(confusion_matrix(y_test, y_pred))\n",
    "print(y_pred)"
   ]
  },
  {
   "cell_type": "code",
   "execution_count": null,
   "metadata": {},
   "outputs": [],
   "source": []
  }
 ],
 "metadata": {
  "kernelspec": {
   "display_name": "giia",
   "language": "python",
   "name": "python3"
  },
  "language_info": {
   "codemirror_mode": {
    "name": "ipython",
    "version": 3
   },
   "file_extension": ".py",
   "mimetype": "text/x-python",
   "name": "python",
   "nbconvert_exporter": "python",
   "pygments_lexer": "ipython3",
   "version": "3.9.18"
  }
 },
 "nbformat": 4,
 "nbformat_minor": 2
}
