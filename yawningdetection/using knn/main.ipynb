{
 "cells": [
  {
   "cell_type": "code",
   "execution_count": 2,
   "metadata": {},
   "outputs": [],
   "source": [
    "from sklearn.neighbors import KNeighborsClassifier"
   ]
  },
  {
   "cell_type": "code",
   "execution_count": 3,
   "metadata": {},
   "outputs": [],
   "source": [
    "import json\n",
    "import numpy as np\n",
    "\n",
    "def Face_Assessment():\n",
    "    STD=0\n",
    "    YAWNING=1\n",
    "    TALKING=2\n",
    "    def __init__(self, file_name):\n",
    "        # load data from json file\n",
    "        with open(file_name) as f:\n",
    "            data = json.load(f)\n",
    "\n",
    "        std = data['1']\n",
    "        yawning = data['2']\n",
    "        talking = data['3']\n",
    "\n",
    "        # create training data\n",
    "        X = []\n",
    "        y = []\n",
    "\n",
    "        lips = \"lips\"\n",
    "        left_eye = \"left_eye\"\n",
    "        right_eye = \"right_eye\"\n",
    "\n",
    "        std_arr = np.transpose(np.array([std[lips], std[left_eye], std[right_eye]]))\n",
    "        yawning_arr = np.transpose(np.array([yawning[lips], yawning[left_eye], yawning[right_eye]]))\n",
    "        talking_arr = np.transpose(np.array([talking[lips], talking[left_eye], talking[right_eye]]))\n",
    "\n",
    "        STD=0\n",
    "        YAWNING=1\n",
    "        TALKING=2\n",
    "\n",
    "        for i in std_arr:\n",
    "            X.append(i)\n",
    "            y.append(STD)\n",
    "        for i in yawning_arr:\n",
    "            X.append(i)\n",
    "            y.append(YAWNING)\n",
    "        for i in talking_arr:\n",
    "            X.append(i)\n",
    "            y.append(TALKING)\n",
    "\n",
    "        neigh = KNeighborsClassifier(n_neighbors=5)\n",
    "        self.detector = neigh.fit(X, y)\n",
    "\n",
    "    def assess(self, lips, left_eye, right_eye):\n",
    "        arr = np.array([lips, left_eye, right_eye])\n",
    "        return self.detector.predict(arr)\n"
   ]
  },
  {
   "cell_type": "markdown",
   "metadata": {},
   "source": [
    "TESTING \n"
   ]
  },
  {
   "cell_type": "code",
   "execution_count": 4,
   "metadata": {},
   "outputs": [
    {
     "ename": "NameError",
     "evalue": "name 'X' is not defined",
     "output_type": "error",
     "traceback": [
      "\u001b[1;31m---------------------------------------------------------------------------\u001b[0m",
      "\u001b[1;31mNameError\u001b[0m                                 Traceback (most recent call last)",
      "Cell \u001b[1;32mIn[4], line 2\u001b[0m\n\u001b[0;32m      1\u001b[0m \u001b[38;5;28;01mfrom\u001b[39;00m \u001b[38;5;21;01msklearn\u001b[39;00m\u001b[38;5;21;01m.\u001b[39;00m\u001b[38;5;21;01mmodel_selection\u001b[39;00m \u001b[38;5;28;01mimport\u001b[39;00m train_test_split\n\u001b[1;32m----> 2\u001b[0m X_train, X_test, y_train, y_test \u001b[38;5;241m=\u001b[39m train_test_split(\u001b[43mX\u001b[49m, y, test_size\u001b[38;5;241m=\u001b[39m\u001b[38;5;241m0.9\u001b[39m)\n\u001b[0;32m      4\u001b[0m \u001b[38;5;28;01mfrom\u001b[39;00m \u001b[38;5;21;01msklearn\u001b[39;00m\u001b[38;5;21;01m.\u001b[39;00m\u001b[38;5;21;01mneighbors\u001b[39;00m \u001b[38;5;28;01mimport\u001b[39;00m KNeighborsClassifier\n\u001b[0;32m      5\u001b[0m \u001b[38;5;28;01mfrom\u001b[39;00m \u001b[38;5;21;01msklearn\u001b[39;00m\u001b[38;5;21;01m.\u001b[39;00m\u001b[38;5;21;01mpipeline\u001b[39;00m \u001b[38;5;28;01mimport\u001b[39;00m Pipeline\n",
      "\u001b[1;31mNameError\u001b[0m: name 'X' is not defined"
     ]
    }
   ],
   "source": [
    "\n",
    "from sklearn.model_selection import train_test_split\n",
    "X_train, X_test, y_train, y_test = train_test_split(X, y, test_size=0.1)\n",
    "\n",
    "from sklearn.neighbors import KNeighborsClassifier\n",
    "from sklearn.pipeline import Pipeline\n",
    "from sklearn.preprocessing import StandardScaler\n",
    "from sklearn import neighbors, datasets, preprocessing\n",
    "from sklearn.model_selection import train_test_split\n",
    "from sklearn.metrics import accuracy_score\n",
    "from sklearn.metrics import classification_report\n",
    "from sklearn.metrics import confusion_matrix\n",
    "print(y_train)\n",
    "scaler = preprocessing.StandardScaler().fit(X_train)\n",
    "Xtrain = scaler.transform(X_train)\n",
    "Xtest = scaler.transform(X_test)\n",
    "\n",
    "knn = neighbors.KNeighborsClassifier(n_neighbors=5)\n",
    "knn.fit(Xtrain, y_train)\n",
    "y_pred = knn.predict(Xtest)\n",
    "\n",
    "print(accuracy_score(y_test, y_pred))\n",
    "print(classification_report(y_test, y_pred))\n",
    "print(confusion_matrix(y_test, y_pred))\n",
    "print(y_pred)"
   ]
  },
  {
   "cell_type": "code",
   "execution_count": null,
   "metadata": {},
   "outputs": [],
   "source": []
  }
 ],
 "metadata": {
  "kernelspec": {
   "display_name": "giia",
   "language": "python",
   "name": "python3"
  },
  "language_info": {
   "codemirror_mode": {
    "name": "ipython",
    "version": 3
   },
   "file_extension": ".py",
   "mimetype": "text/x-python",
   "name": "python",
   "nbconvert_exporter": "python",
   "pygments_lexer": "ipython3",
   "version": "3.9.18"
  }
 },
 "nbformat": 4,
 "nbformat_minor": 2
}
