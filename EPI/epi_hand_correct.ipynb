{
 "cells": [
  {
   "cell_type": "code",
   "execution_count": 1,
   "metadata": {},
   "outputs": [],
   "source": [
    "import cv2\n",
    "import numpy as np\n",
    "import cvzone\n",
    "import math\n",
    "import mediapipe as mp\n",
    "import time\n",
    "caminput =0"
   ]
  },
  {
   "cell_type": "code",
   "execution_count": 2,
   "metadata": {},
   "outputs": [],
   "source": [
    "##mediapipe hand detection\n",
    "mp_drawing = mp.solutions.drawing_utils\n",
    "mp_holistic = mp.solutions.holistic\n",
    "mp_hands = mp.solutions.hands\n",
    "mp_pose = mp.solutions.pose\n"
   ]
  },
  {
   "cell_type": "markdown",
   "metadata": {},
   "source": [
    "<img src=\"https://i.imgur.com/qpRACer.png \"/>"
   ]
  },
  {
   "cell_type": "markdown",
   "metadata": {},
   "source": [
    "<img src=\"https://camo.githubusercontent.com/7fbec98ddbc1dc4186852d1c29487efd7b1eb820c8b6ef34e113fcde40746be2/68747470733a2f2f6d65646961706970652e6465762f696d616765732f6d6f62696c652f706f73655f747261636b696e675f66756c6c5f626f64795f6c616e646d61726b732e706e67\">"
   ]
  },
  {
   "cell_type": "code",
   "execution_count": 3,
   "metadata": {},
   "outputs": [],
   "source": [
    "cap = cv2.VideoCapture(caminput)\n",
    "StartCoords = []\n",
    "pose = mp.solutions.pose.Pose(model_complexity=2,\n",
    "    enable_segmentation=True,\n",
    "    min_detection_confidence=0.5)\n",
    "hand = mp.solutions.hands.Hands(max_num_hands=2,\n",
    "    min_detection_confidence=0.5)\n",
    "prev_time = 0\n",
    "new_time = 0\n",
    "with mp_holistic.Holistic(min_detection_confidence=0.5, min_tracking_confidence=0.5) as holistic:\n",
    "    while cap.isOpened():\n",
    "        ret, frame = cap.read()\n",
    "        image = np.zeros(frame.shape, dtype=np.uint8)\n",
    "        img = cv2.cvtColor(frame, cv2.COLOR_BGR2RGB)\n",
    "        img = cv2.flip(img, 1)\n",
    "        img.flags.writeable = False\n",
    "        res = holistic.process(img)\n",
    "        pose_res = pose.process(img)\n",
    "        hand_res = hand.process(img)\n",
    "        img.flags.writeable = True\n",
    "        img = cv2.cvtColor(img, cv2.COLOR_RGB2BGR)\n",
    "        mp_drawing.draw_landmarks(img, res.face_landmarks, mp_holistic.FACEMESH_CONTOURS,\n",
    "                                  mp_drawing.DrawingSpec(color=(255, 110, 10), thickness=1, circle_radius=1),\n",
    "                                    mp_drawing.DrawingSpec(color=(255, 256, 121), thickness=1, circle_radius=1)\n",
    "                                    )\n",
    "        # if hand_res.multi_hand_landmarks:\n",
    "        #     for hand_landmarks in hand_res.multi_hand_landmarks:\n",
    "        #         mp_drawing.draw_landmarks(img, hand_landmarks, mp_hands.HAND_CONNECTIONS)\n",
    "        mp_drawing.draw_landmarks(img, pose_res.pose_landmarks, mp_pose.POSE_CONNECTIONS,\n",
    "                          mp_drawing.DrawingSpec(color=(245, 117, 66), thickness=2, circle_radius=4),\n",
    "                            mp_drawing.DrawingSpec(color=(245, 66, 230), thickness=2, circle_radius=2)\n",
    "                            )\n",
    "        if pose_res.pose_landmarks:\n",
    "            left_hand_end_point = np.array([pose_res.pose_landmarks.landmark[14].x, pose_res.pose_landmarks.landmark[14].y, pose_res.pose_landmarks.landmark[14].z])\n",
    "            left_hand_start_point = np.array([pose_res.pose_landmarks.landmark[16].x, pose_res.pose_landmarks.landmark[16].y, pose_res.pose_landmarks.landmark[16].z])\n",
    "            por = 1/9\n",
    "            Vect_left_hand = (left_hand_end_point - left_hand_start_point)*por + left_hand_start_point\n",
    "            cv2.circle(img, (int(Vect_left_hand[0]*img.shape[1]), int(Vect_left_hand[1]*img.shape[0])), 5, (0, 0, 255), -1)\n",
    "            right_hand_end_point = np.array([pose_res.pose_landmarks.landmark[13].x, pose_res.pose_landmarks.landmark[13].y, pose_res.pose_landmarks.landmark[13].z])\n",
    "            right_hand_start_point = np.array([pose_res.pose_landmarks.landmark[15].x, pose_res.pose_landmarks.landmark[15].y, pose_res.pose_landmarks.landmark[15].z])\n",
    "            Vect_right_hand = (right_hand_end_point - right_hand_start_point)*por + right_hand_start_point\n",
    "            cv2.circle(img, (int(Vect_right_hand[0]*img.shape[1]), int(Vect_right_hand[1]*img.shape[0])), 5, (0, 0, 255), -1)\n",
    "        new_time = time.time()\n",
    "        fps = 1/(new_time-prev_time)\n",
    "        prev_time = new_time\n",
    "        cv2.putText(img, str(int(fps)), (10, 70), cv2.FONT_HERSHEY_PLAIN, 3,\n",
    "                    (255, 0, 255), 3)\n",
    "        cv2.imshow(\"pose detection\", image)\n",
    "\n",
    "        cv2.imshow(\"Hand Tracking\", img)\n",
    "        \n",
    "        if cv2.waitKey(10) & 0xFF == ord('q'):\n",
    "            break\n",
    "cap.release()\n",
    "cv2.destroyAllWindows()"
   ]
  },
  {
   "cell_type": "code",
   "execution_count": null,
   "metadata": {},
   "outputs": [],
   "source": [
    "cap.release()\n",
    "cv2.destroyAllWindows()"
   ]
  },
  {
   "cell_type": "code",
   "execution_count": null,
   "metadata": {},
   "outputs": [],
   "source": []
  }
 ],
 "metadata": {
  "kernelspec": {
   "display_name": "Factory_Safety",
   "language": "python",
   "name": "python3"
  },
  "language_info": {
   "codemirror_mode": {
    "name": "ipython",
    "version": 3
   },
   "file_extension": ".py",
   "mimetype": "text/x-python",
   "name": "python",
   "nbconvert_exporter": "python",
   "pygments_lexer": "ipython3",
   "version": "3.9.18"
  }
 },
 "nbformat": 4,
 "nbformat_minor": 2
}
