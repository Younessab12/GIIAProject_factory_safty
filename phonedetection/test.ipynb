{
 "cells": [
  {
   "cell_type": "code",
   "execution_count": 5,
   "metadata": {},
   "outputs": [],
   "source": [
    "import code \n"
   ]
  },
  {
   "cell_type": "code",
   "execution_count": 6,
   "metadata": {},
   "outputs": [
    {
     "name": "stdout",
     "output_type": "stream",
     "text": [
      "starting detection\n",
      "phone detected 6.519817352294922\n",
      "phone detected 6.903905391693115\n",
      "phone detected 7.296579599380493\n",
      "phone detected 7.706965446472168\n",
      "phone detected 8.075514316558838\n",
      "phone detected 8.454487085342407\n",
      "phone detected 8.819878339767456\n",
      "phone detected 9.178358316421509\n",
      "phone detected 9.936697959899902\n",
      "phone detected 10.311803579330444\n",
      "phone detected 10.713998317718506\n",
      "phone detected 11.85780119895935\n",
      "phone detected 14.581248044967651\n",
      "phone detected 17.575840711593628\n",
      "phone detected 26.49838376045227\n",
      "phone detected 27.773218870162964\n",
      "phone detected 28.15211534500122\n",
      "phone detected 28.503668785095215\n",
      "phone detected 28.911197662353516\n",
      "phone detected 29.322500228881836\n",
      "phone detected 29.71342897415161\n",
      "phone detected 30.09953737258911\n",
      "phone detected 30.5086407661438\n",
      "phone detected 30.887617349624634\n",
      "phone detected 31.259941816329956\n",
      "phone detected 31.685606956481934\n",
      "phone detected 32.10435652732849\n",
      "phone detected 32.481260776519775\n",
      "phone detected 32.858357191085815\n",
      "phone detected 33.25048470497131\n",
      "phone detected 33.621866941452026\n",
      "phone detected 33.967666149139404\n",
      "phone detected 34.341678857803345\n",
      "phone detected 34.72351598739624\n",
      "phone detected 35.18594312667847\n",
      "phone detected 35.56360578536987\n",
      "phone detected 35.95510745048523\n",
      "phone detected 36.3197238445282\n",
      "phone detected 36.77845096588135\n",
      "phone detected 37.15799355506897\n",
      "phone detected 37.53000736236572\n",
      "phone detected 37.901713848114014\n",
      "phone detected 38.30203056335449\n",
      "phone detected 38.68915510177612\n",
      "phone detected 39.06365990638733\n",
      "phone detected 39.42138147354126\n",
      "phone detected 40.203797578811646\n",
      "phone detected 43.332449197769165\n",
      "phone detected 51.25462865829468\n"
     ]
    }
   ],
   "source": [
    "mod=code.PhoneDetector(\"./bestnanophone.pt\")\n",
    "mod.detect()"
   ]
  },
  {
   "cell_type": "code",
   "execution_count": null,
   "metadata": {},
   "outputs": [],
   "source": []
  }
 ],
 "metadata": {
  "kernelspec": {
   "display_name": "Factory_Safety",
   "language": "python",
   "name": "python3"
  },
  "language_info": {
   "codemirror_mode": {
    "name": "ipython",
    "version": 3
   },
   "file_extension": ".py",
   "mimetype": "text/x-python",
   "name": "python",
   "nbconvert_exporter": "python",
   "pygments_lexer": "ipython3",
   "version": "3.9.18"
  }
 },
 "nbformat": 4,
 "nbformat_minor": 2
}
