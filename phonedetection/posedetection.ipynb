{
 "cells": [
  {
   "cell_type": "code",
   "execution_count": 1,
   "metadata": {},
   "outputs": [],
   "source": [
    "import mediapipe as mp\n",
    "from mediapipe.tasks import python\n",
    "from mediapipe.tasks.python import vision\n"
   ]
  },
  {
   "cell_type": "code",
   "execution_count": 2,
   "metadata": {},
   "outputs": [],
   "source": [
    "model_path = 'models\\pose_landmarker_heavy.task'"
   ]
  },
  {
   "cell_type": "code",
   "execution_count": 11,
   "metadata": {},
   "outputs": [
    {
     "ename": "TypeError",
     "evalue": "__init__(): incompatible constructor arguments. The following argument types are supported:\n    1. mediapipe.python._framework_bindings.timestamp.Timestamp(arg0: mediapipe.python._framework_bindings.timestamp.Timestamp)\n    2. mediapipe.python._framework_bindings.timestamp.Timestamp(arg0: int)\n\nInvoked with: 1700833869.7939956",
     "output_type": "error",
     "traceback": [
      "\u001b[1;31m---------------------------------------------------------------------------\u001b[0m",
      "\u001b[1;31mTypeError\u001b[0m                                 Traceback (most recent call last)",
      "\u001b[1;32mc:\\Users\\Dell Latitude 5420\\Desktop\\IA\\GIIAProject_factory_safty\\phonedetection\\posedetection.ipynb Cell 3\u001b[0m line \u001b[0;36m3\n\u001b[0;32m     <a href='vscode-notebook-cell:/c%3A/Users/Dell%20Latitude%205420/Desktop/IA/GIIAProject_factory_safty/phonedetection/posedetection.ipynb#W2sZmlsZQ%3D%3D?line=29'>30</a>\u001b[0m fps\u001b[39m=\u001b[39m\u001b[39mint\u001b[39m(\u001b[39m1\u001b[39m\u001b[39m/\u001b[39m(new_time\u001b[39m-\u001b[39mpre_time))\n\u001b[0;32m     <a href='vscode-notebook-cell:/c%3A/Users/Dell%20Latitude%205420/Desktop/IA/GIIAProject_factory_safty/phonedetection/posedetection.ipynb#W2sZmlsZQ%3D%3D?line=30'>31</a>\u001b[0m pre_time\u001b[39m=\u001b[39mnew_time\n\u001b[1;32m---> <a href='vscode-notebook-cell:/c%3A/Users/Dell%20Latitude%205420/Desktop/IA/GIIAProject_factory_safty/phonedetection/posedetection.ipynb#W2sZmlsZQ%3D%3D?line=32'>33</a>\u001b[0m ts\u001b[39m=\u001b[39mmp\u001b[39m.\u001b[39;49mTimestamp(time\u001b[39m.\u001b[39;49mtime())\n\u001b[0;32m     <a href='vscode-notebook-cell:/c%3A/Users/Dell%20Latitude%205420/Desktop/IA/GIIAProject_factory_safty/phonedetection/posedetection.ipynb#W2sZmlsZQ%3D%3D?line=33'>34</a>\u001b[0m res \u001b[39m=\u001b[39m landmarker\u001b[39m.\u001b[39mdetect_async(mp_image,ts)\n\u001b[0;32m     <a href='vscode-notebook-cell:/c%3A/Users/Dell%20Latitude%205420/Desktop/IA/GIIAProject_factory_safty/phonedetection/posedetection.ipynb#W2sZmlsZQ%3D%3D?line=34'>35</a>\u001b[0m \u001b[39mprint\u001b[39m(res)\n",
      "\u001b[1;31mTypeError\u001b[0m: __init__(): incompatible constructor arguments. The following argument types are supported:\n    1. mediapipe.python._framework_bindings.timestamp.Timestamp(arg0: mediapipe.python._framework_bindings.timestamp.Timestamp)\n    2. mediapipe.python._framework_bindings.timestamp.Timestamp(arg0: int)\n\nInvoked with: 1700833869.7939956"
     ]
    }
   ],
   "source": [
    "import mediapipe as mp\n",
    "import cv2\n",
    "import time\n",
    "BaseOptions = mp.tasks.BaseOptions\n",
    "PoseLandmarker = mp.tasks.vision.PoseLandmarker\n",
    "PoseLandmarkerOptions = mp.tasks.vision.PoseLandmarkerOptions\n",
    "PoseLandmarkerResult = mp.tasks.vision.PoseLandmarkerResult\n",
    "VisionRunningMode = mp.tasks.vision.RunningMode\n",
    "mp_drawing = mp.solutions.drawing_utils\n",
    "new_time = 0\n",
    "pre_time = 0\n",
    "\n",
    "# Create a pose landmarker instance with the live stream mode:\n",
    "def print_result(result: PoseLandmarkerResult, output_image: mp.Image, timestamp_ms: int):\n",
    "    print('pose landmarker result: {}'.format(result))\n",
    "\n",
    "options = PoseLandmarkerOptions(\n",
    "    base_options=BaseOptions(model_asset_path=model_path),\n",
    "    running_mode=VisionRunningMode.LIVE_STREAM,\n",
    "    result_callback=print_result)\n",
    "\n",
    "with PoseLandmarker.create_from_options(options) as landmarker:\n",
    "  # The landmarker is initialized. Use it here.\n",
    "  # ...\n",
    "    cap = cv2.VideoCapture(0)\n",
    "    while cap.isOpened():\n",
    "        ret, frame = cap.read()\n",
    "        mp_image = mp.Image(image_format=mp.ImageFormat.SRGB, data=frame)\n",
    "        new_time=time.time()\n",
    "        fps=int(1/(new_time-pre_time))\n",
    "        pre_time=new_time\n",
    "\n",
    "        ts=mp.Timestamp(time.time())\n",
    "        res = landmarker.detect_async(mp_image,ts)\n",
    "        print(res)\n",
    "        # mp_drawing.draw_landmarks(frame, res.Landmarks, mp.solutions.holistic.POSE_CONNECTIONS)\n",
    "        cv2.imshow('MediaPipe Pose', frame)\n",
    "        if cv2.waitKey(10) & 0xFF == ord('q'):\n",
    "            break\n",
    "    cap.release()\n",
    "    cv2.destroyAllWindows()\n",
    "\n"
   ]
  },
  {
   "cell_type": "code",
   "execution_count": 10,
   "metadata": {},
   "outputs": [],
   "source": [
    "cap.release()\n",
    "cv2.destroyAllWindows()"
   ]
  },
  {
   "cell_type": "code",
   "execution_count": null,
   "metadata": {},
   "outputs": [],
   "source": []
  }
 ],
 "metadata": {
  "kernelspec": {
   "display_name": "Factory_Safety",
   "language": "python",
   "name": "python3"
  },
  "language_info": {
   "codemirror_mode": {
    "name": "ipython",
    "version": 3
   },
   "file_extension": ".py",
   "mimetype": "text/x-python",
   "name": "python",
   "nbconvert_exporter": "python",
   "pygments_lexer": "ipython3",
   "version": "3.9.18"
  }
 },
 "nbformat": 4,
 "nbformat_minor": 2
}
