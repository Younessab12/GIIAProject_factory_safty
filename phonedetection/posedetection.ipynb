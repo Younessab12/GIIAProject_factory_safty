{
 "cells": [
  {
   "cell_type": "code",
   "execution_count": 2,
   "metadata": {},
   "outputs": [],
   "source": [
    "import mediapipe as mp\n",
    "from mediapipe.tasks import python\n",
    "from mediapipe.tasks.python import vision\n"
   ]
  },
  {
   "cell_type": "code",
   "execution_count": 3,
   "metadata": {},
   "outputs": [],
   "source": [
    "model_path = 'models\\pose_landmarker_heavy.task'"
   ]
  },
  {
   "cell_type": "code",
   "execution_count": 23,
   "metadata": {},
   "outputs": [
    {
     "name": "stdout",
     "output_type": "stream",
     "text": [
      "PoseLandmarkerResult(pose_landmarks=[[NormalizedLandmark(x=0.38424137234687805, y=0.6723697185516357, z=-2.6597962379455566, visibility=0.9998948574066162, presence=0.9998708963394165), NormalizedLandmark(x=0.4180504381656647, y=0.5743826627731323, z=-2.6090891361236572, visibility=0.999799907207489, presence=0.999843955039978), NormalizedLandmark(x=0.4452604353427887, y=0.5708256959915161, z=-2.610433340072632, visibility=0.9997418522834778, presence=0.9998434782028198), NormalizedLandmark(x=0.4667763113975525, y=0.5685184001922607, z=-2.6103484630584717, visibility=0.999779999256134, presence=0.99974125623703), NormalizedLandmark(x=0.33935970067977905, y=0.5730721950531006, z=-2.601593017578125, visibility=0.9998799562454224, presence=0.9997946619987488), NormalizedLandmark(x=0.3168615996837616, y=0.571230411529541, z=-2.6028809547424316, visibility=0.9998834133148193, presence=0.9998059868812561), NormalizedLandmark(x=0.2919324040412903, y=0.5716003179550171, z=-2.60380482673645, visibility=0.999889612197876, presence=0.999700665473938), NormalizedLandmark(x=0.49694520235061646, y=0.5687724351882935, z=-2.0063374042510986, visibility=0.9998083710670471, presence=0.9996411800384521), NormalizedLandmark(x=0.25785624980926514, y=0.5882308483123779, z=-1.9642285108566284, visibility=0.999643087387085, presence=0.999365508556366), NormalizedLandmark(x=0.4289090931415558, y=0.7491589188575745, z=-2.3979291915893555, visibility=0.9994341731071472, presence=0.9986044764518738), NormalizedLandmark(x=0.3388842046260834, y=0.7686251401901245, z=-2.3946499824523926, visibility=0.9993922710418701, presence=0.9972007274627686), NormalizedLandmark(x=0.6535325050354004, y=0.7893443703651428, z=-1.465169072151184, visibility=0.9986477494239807, presence=0.9922204613685608), NormalizedLandmark(x=0.12080156803131104, y=0.9125741720199585, z=-1.3156100511550903, visibility=0.9953489899635315, presence=0.9768869280815125), NormalizedLandmark(x=0.8460527062416077, y=1.0208896398544312, z=-1.5036293268203735, visibility=0.3973979353904724, presence=0.4231799840927124), NormalizedLandmark(x=0.09143942594528198, y=1.3504765033721924, z=-1.368733286857605, visibility=0.32013997435569763, presence=0.3776649832725525), NormalizedLandmark(x=0.8835645914077759, y=1.48048734664917, z=-2.012706995010376, visibility=0.022735828533768654, presence=0.06855957955121994), NormalizedLandmark(x=0.09804487228393555, y=1.7014309167861938, z=-1.9102789163589478, visibility=0.022658564150333405, presence=0.05391717329621315), NormalizedLandmark(x=0.9126880168914795, y=1.5870918035507202, z=-2.1818695068359375, visibility=0.02234993875026703, presence=0.05289936065673828), NormalizedLandmark(x=0.08079668879508972, y=1.811402440071106, z=-2.0780868530273438, visibility=0.018924888223409653, presence=0.031236624345183372), NormalizedLandmark(x=0.8697701692581177, y=1.583432912826538, z=-2.2768073081970215, visibility=0.0300961472094059, presence=0.07186505198478699), NormalizedLandmark(x=0.09407925605773926, y=1.8082921504974365, z=-2.20620059967041, visibility=0.027803385630249977, presence=0.043005093932151794), NormalizedLandmark(x=0.8452332615852356, y=1.5472564697265625, z=-2.058043956756592, visibility=0.026140404865145683, presence=0.07846104353666306), NormalizedLandmark(x=0.1192103922367096, y=1.7637758255004883, z=-1.9774774312973022, visibility=0.026652395725250244, presence=0.060446251183748245), NormalizedLandmark(x=0.6109616756439209, y=1.600122332572937, z=-0.0477728508412838, visibility=0.17101837694644928, presence=0.08801424503326416), NormalizedLandmark(x=0.2957954406738281, y=1.621227502822876, z=0.046908728778362274, visibility=0.18256989121437073, presence=0.08216459304094315), NormalizedLandmark(x=0.6226688027381897, y=2.2943949699401855, z=-0.1675225794315338, visibility=0.0020702267065644264, presence=0.008680621162056923), NormalizedLandmark(x=0.3550134301185608, y=2.3121962547302246, z=-0.35543790459632874, visibility=0.0032959964592009783, presence=0.009493843652307987), NormalizedLandmark(x=0.6365295052528381, y=2.9128503799438477, z=0.351396381855011, visibility=0.0021734226029366255, presence=0.004570546094328165), NormalizedLandmark(x=0.3565378487110138, y=2.9138598442077637, z=0.5067532658576965, visibility=0.0021382325794547796, presence=0.002619081875309348), NormalizedLandmark(x=0.6448928117752075, y=3.00581431388855, z=0.3652995228767395, visibility=0.0028036986477673054, presence=0.0034446155186742544), NormalizedLandmark(x=0.3564843535423279, y=2.998072624206543, z=0.5692917704582214, visibility=0.0027871045749634504, presence=0.004849941469728947), NormalizedLandmark(x=0.5920264720916748, y=3.1043529510498047, z=-0.2744651138782501, visibility=0.0030287865083664656, presence=0.008870801888406277), NormalizedLandmark(x=0.3968643248081207, y=3.1073265075683594, z=0.027111992239952087, visibility=0.0022293494548648596, presence=0.005594387650489807)]], pose_world_landmarks=[[Landmark(x=-0.0701027438044548, y=-0.41870126128196716, z=-0.5942319631576538, visibility=0.9998948574066162, presence=0.9998708963394165), Landmark(x=-0.05742166191339493, y=-0.45005032420158386, z=-0.5918474197387695, visibility=0.999799907207489, presence=0.999843955039978), Landmark(x=-0.05590217560529709, y=-0.44856691360473633, z=-0.5786865949630737, visibility=0.9997418522834778, presence=0.9998434782028198), Landmark(x=-0.05864837020635605, y=-0.449715256690979, z=-0.5824949741363525, visibility=0.999779999256134, presence=0.99974125623703), Landmark(x=-0.08732211589813232, y=-0.4536896049976349, z=-0.6035188436508179, visibility=0.9998799562454224, presence=0.9997946619987488), Landmark(x=-0.08369138091802597, y=-0.45130035281181335, z=-0.6200355887413025, visibility=0.9998834133148193, presence=0.9998059868812561), Landmark(x=-0.08237016201019287, y=-0.44069918990135193, z=-0.5978788137435913, visibility=0.999889612197876, presence=0.999700665473938), Landmark(x=0.01343480497598648, y=-0.4800930917263031, z=-0.4643028676509857, visibility=0.9998083710670471, presence=0.9996411800384521), Landmark(x=-0.15405505895614624, y=-0.4178723990917206, z=-0.464653879404068, visibility=0.999643087387085, presence=0.999365508556366), Landmark(x=-0.024598725140094757, y=-0.42379337549209595, z=-0.5306273102760315, visibility=0.9994341731071472, presence=0.9986044764518738), Landmark(x=-0.06699316203594208, y=-0.3860156834125519, z=-0.5577603578567505, visibility=0.9993922710418701, presence=0.9972007274627686), Landmark(x=0.12915585935115814, y=-0.3912446200847626, z=-0.2824794054031372, visibility=0.9986477494239807, presence=0.9922204613685608), Landmark(x=-0.20464730262756348, y=-0.39619356393814087, z=-0.23272423446178436, visibility=0.9953489899635315, presence=0.9768869280815125), Landmark(x=0.25988709926605225, y=-0.2790302336215973, z=-0.29857683181762695, visibility=0.3973979353904724, presence=0.4231799840927124), Landmark(x=-0.21721436083316803, y=-0.14492878317832947, z=-0.2665570378303528, visibility=0.32013997435569763, presence=0.3776649832725525), Landmark(x=0.27475661039352417, y=-0.09705842286348343, z=-0.2822241187095642, visibility=0.022735828533768654, presence=0.06855957955121994), Landmark(x=-0.249337300658226, y=0.04723796248435974, z=-0.34428173303604126, visibility=0.022658564150333405, presence=0.05391717329621315), Landmark(x=0.2769163250923157, y=-0.06165322661399841, z=-0.28585943579673767, visibility=0.02234993875026703, presence=0.05289936065673828), Landmark(x=-0.2288184016942978, y=0.07842116057872772, z=-0.37851351499557495, visibility=0.018924888223409653, presence=0.031236624345183372), Landmark(x=0.2362411916255951, y=-0.05376628041267395, z=-0.2985111474990845, visibility=0.0300961472094059, presence=0.07186505198478699), Landmark(x=-0.20453979074954987, y=0.051062121987342834, z=-0.3992424011230469, visibility=0.027803385630249977, presence=0.043005093932151794), Landmark(x=0.26675233244895935, y=-0.06651253998279572, z=-0.29197248816490173, visibility=0.026140404865145683, presence=0.07846104353666306), Landmark(x=-0.23606829345226288, y=0.048664242029190063, z=-0.3630061149597168, visibility=0.026652395725250244, presence=0.060446251183748245), Landmark(x=0.10348580777645111, y=-0.006928818300366402, z=0.025467824190855026, visibility=0.17101837694644928, presence=0.08801424503326416), Landmark(x=-0.10065949708223343, y=-0.00045278482139110565, z=-0.025649163872003555, visibility=0.18256989121437073, presence=0.08216459304094315), Landmark(x=0.08911655098199844, y=0.3823370337486267, z=-0.015944674611091614, visibility=0.0020702267065644264, presence=0.008680621162056923), Landmark(x=-0.0381733700633049, y=0.3256296217441559, z=-0.07440721988677979, visibility=0.0032959964592009783, presence=0.009493843652307987), Landmark(x=0.13315768539905548, y=0.6829578280448914, z=0.09853655844926834, visibility=0.0021734226029366255, presence=0.004570546094328165), Landmark(x=-0.0776258036494255, y=0.6671234965324402, z=0.13187207281589508, visibility=0.0021382325794547796, presence=0.002619081875309348), Landmark(x=0.11867117881774902, y=0.7125447392463684, z=0.11572661250829697, visibility=0.0028036986477673054, presence=0.0034446155186742544), Landmark(x=-0.08078744262456894, y=0.6933808326721191, z=0.11871699243783951, visibility=0.0027871045749634504, presence=0.004849941469728947), Landmark(x=0.11070077121257782, y=0.7233535647392273, z=0.04027164727449417, visibility=0.0030287865083664656, presence=0.008870801888406277), Landmark(x=-0.0721823126077652, y=0.7095006704330444, z=0.04638076201081276, visibility=0.0022293494548648596, presence=0.005594387650489807)]], segmentation_masks=None)\n"
     ]
    },
    {
     "ename": "AttributeError",
     "evalue": "'list' object has no attribute 'landmark'",
     "output_type": "error",
     "traceback": [
      "\u001b[1;31m---------------------------------------------------------------------------\u001b[0m",
      "\u001b[1;31mAttributeError\u001b[0m                            Traceback (most recent call last)",
      "\u001b[1;32mc:\\Users\\Dell Latitude 5420\\Desktop\\IA\\GIIAProject_factory_safty\\phonedetection\\posedetection.ipynb Cell 3\u001b[0m line \u001b[0;36m3\n\u001b[0;32m     <a href='vscode-notebook-cell:/c%3A/Users/Dell%20Latitude%205420/Desktop/IA/GIIAProject_factory_safty/phonedetection/posedetection.ipynb#W2sZmlsZQ%3D%3D?line=32'>33</a>\u001b[0m \u001b[39mprint\u001b[39m(res)\n\u001b[0;32m     <a href='vscode-notebook-cell:/c%3A/Users/Dell%20Latitude%205420/Desktop/IA/GIIAProject_factory_safty/phonedetection/posedetection.ipynb#W2sZmlsZQ%3D%3D?line=33'>34</a>\u001b[0m ts\u001b[39m+\u001b[39m\u001b[39m=\u001b[39m\u001b[39m1\u001b[39m\n\u001b[1;32m---> <a href='vscode-notebook-cell:/c%3A/Users/Dell%20Latitude%205420/Desktop/IA/GIIAProject_factory_safty/phonedetection/posedetection.ipynb#W2sZmlsZQ%3D%3D?line=34'>35</a>\u001b[0m mp_drawing\u001b[39m.\u001b[39;49mdraw_landmarks(frame, res\u001b[39m.\u001b[39;49mpose_landmarks[\u001b[39m0\u001b[39;49m], mp\u001b[39m.\u001b[39;49msolutions\u001b[39m.\u001b[39;49mpose\u001b[39m.\u001b[39;49mPOSE_CONNECTIONS,\n\u001b[0;32m     <a href='vscode-notebook-cell:/c%3A/Users/Dell%20Latitude%205420/Desktop/IA/GIIAProject_factory_safty/phonedetection/posedetection.ipynb#W2sZmlsZQ%3D%3D?line=35'>36</a>\u001b[0m                   mp_drawing\u001b[39m.\u001b[39;49mDrawingSpec(color\u001b[39m=\u001b[39;49m(\u001b[39m245\u001b[39;49m, \u001b[39m117\u001b[39;49m, \u001b[39m66\u001b[39;49m), thickness\u001b[39m=\u001b[39;49m\u001b[39m2\u001b[39;49m, circle_radius\u001b[39m=\u001b[39;49m\u001b[39m4\u001b[39;49m),\n\u001b[0;32m     <a href='vscode-notebook-cell:/c%3A/Users/Dell%20Latitude%205420/Desktop/IA/GIIAProject_factory_safty/phonedetection/posedetection.ipynb#W2sZmlsZQ%3D%3D?line=36'>37</a>\u001b[0m                     mp_drawing\u001b[39m.\u001b[39;49mDrawingSpec(color\u001b[39m=\u001b[39;49m(\u001b[39m245\u001b[39;49m, \u001b[39m66\u001b[39;49m, \u001b[39m230\u001b[39;49m), thickness\u001b[39m=\u001b[39;49m\u001b[39m2\u001b[39;49m, circle_radius\u001b[39m=\u001b[39;49m\u001b[39m2\u001b[39;49m)\n\u001b[0;32m     <a href='vscode-notebook-cell:/c%3A/Users/Dell%20Latitude%205420/Desktop/IA/GIIAProject_factory_safty/phonedetection/posedetection.ipynb#W2sZmlsZQ%3D%3D?line=37'>38</a>\u001b[0m                     )\n\u001b[0;32m     <a href='vscode-notebook-cell:/c%3A/Users/Dell%20Latitude%205420/Desktop/IA/GIIAProject_factory_safty/phonedetection/posedetection.ipynb#W2sZmlsZQ%3D%3D?line=38'>39</a>\u001b[0m \u001b[39m# mp_drawing.draw_landmarks(frame, res.Landmarks, mp.solutions.holistic.POSE_CONNECTIONS)\u001b[39;00m\n\u001b[0;32m     <a href='vscode-notebook-cell:/c%3A/Users/Dell%20Latitude%205420/Desktop/IA/GIIAProject_factory_safty/phonedetection/posedetection.ipynb#W2sZmlsZQ%3D%3D?line=39'>40</a>\u001b[0m cv2\u001b[39m.\u001b[39mimshow(\u001b[39m'\u001b[39m\u001b[39mMediaPipe Pose\u001b[39m\u001b[39m'\u001b[39m, frame)\n",
      "File \u001b[1;32mc:\\Users\\Dell Latitude 5420\\.conda\\envs\\Factory_Safety\\lib\\site-packages\\mediapipe\\python\\solutions\\drawing_utils.py:157\u001b[0m, in \u001b[0;36mdraw_landmarks\u001b[1;34m(image, landmark_list, connections, landmark_drawing_spec, connection_drawing_spec)\u001b[0m\n\u001b[0;32m    155\u001b[0m image_rows, image_cols, _ \u001b[39m=\u001b[39m image\u001b[39m.\u001b[39mshape\n\u001b[0;32m    156\u001b[0m idx_to_coordinates \u001b[39m=\u001b[39m {}\n\u001b[1;32m--> 157\u001b[0m \u001b[39mfor\u001b[39;00m idx, landmark \u001b[39min\u001b[39;00m \u001b[39menumerate\u001b[39m(landmark_list\u001b[39m.\u001b[39;49mlandmark):\n\u001b[0;32m    158\u001b[0m   \u001b[39mif\u001b[39;00m ((landmark\u001b[39m.\u001b[39mHasField(\u001b[39m'\u001b[39m\u001b[39mvisibility\u001b[39m\u001b[39m'\u001b[39m) \u001b[39mand\u001b[39;00m\n\u001b[0;32m    159\u001b[0m        landmark\u001b[39m.\u001b[39mvisibility \u001b[39m<\u001b[39m _VISIBILITY_THRESHOLD) \u001b[39mor\u001b[39;00m\n\u001b[0;32m    160\u001b[0m       (landmark\u001b[39m.\u001b[39mHasField(\u001b[39m'\u001b[39m\u001b[39mpresence\u001b[39m\u001b[39m'\u001b[39m) \u001b[39mand\u001b[39;00m\n\u001b[0;32m    161\u001b[0m        landmark\u001b[39m.\u001b[39mpresence \u001b[39m<\u001b[39m _PRESENCE_THRESHOLD)):\n\u001b[0;32m    162\u001b[0m     \u001b[39mcontinue\u001b[39;00m\n",
      "\u001b[1;31mAttributeError\u001b[0m: 'list' object has no attribute 'landmark'"
     ]
    }
   ],
   "source": [
    "import mediapipe as mp\n",
    "import cv2\n",
    "import time\n",
    "BaseOptions = mp.tasks.BaseOptions\n",
    "PoseLandmarker = mp.tasks.vision.PoseLandmarker\n",
    "PoseLandmarkerOptions = mp.tasks.vision.PoseLandmarkerOptions\n",
    "PoseLandmarkerResult = mp.tasks.vision.PoseLandmarkerResult\n",
    "VisionRunningMode = mp.tasks.vision.RunningMode\n",
    "mp_drawing = mp.solutions.drawing_utils\n",
    "new_time = 0\n",
    "pre_time = 0\n",
    "\n",
    "# Create a pose landmarker instance with the live stream mode:\n",
    "def print_result(result: PoseLandmarkerResult, output_image: mp.Image, timestamp_ms: int):\n",
    "    print('pose landmarker result: {}'.format(result))\n",
    "\n",
    "options = PoseLandmarkerOptions(\n",
    "    base_options=BaseOptions(model_asset_path=model_path),\n",
    "    running_mode=VisionRunningMode.IMAGE)\n",
    "\n",
    "with PoseLandmarker.create_from_options(options) as landmarker:\n",
    "  # The landmarker is initialized. Use it here.\n",
    "  # ...\n",
    "    ts=1\n",
    "    cap = cv2.VideoCapture(0)\n",
    "    while cap.isOpened():\n",
    "        ret, frame = cap.read()\n",
    "        mp_image = mp.Image(image_format=mp.ImageFormat.SRGB, data=frame)\n",
    "        new_time=time.time()\n",
    "        fps=int(1/(new_time-pre_time))\n",
    "        pre_time=new_time\n",
    "        res = landmarker.detect(mp_image)\n",
    "        print(res)\n",
    "        ts+=1\n",
    "        mp_drawing.draw_landmarks(frame, res.pose_landmarks, mp.solutions.pose.POSE_CONNECTIONS,\n",
    "                          mp_drawing.DrawingSpec(color=(245, 117, 66), thickness=2, circle_radius=4),\n",
    "                            mp_drawing.DrawingSpec(color=(245, 66, 230), thickness=2, circle_radius=2)\n",
    "                            )\n",
    "        # mp_drawing.draw_landmarks(frame, res.Landmarks, mp.solutions.holistic.POSE_CONNECTIONS)\n",
    "        cv2.imshow('MediaPipe Pose', frame)\n",
    "        if cv2.waitKey(10) & 0xFF == ord('q'):\n",
    "            break\n",
    "    cap.release()\n",
    "    cv2.destroyAllWindows()\n",
    "\n"
   ]
  },
  {
   "cell_type": "code",
   "execution_count": 24,
   "metadata": {},
   "outputs": [],
   "source": [
    "cap.release()\n",
    "cv2.destroyAllWindows()"
   ]
  },
  {
   "cell_type": "code",
   "execution_count": null,
   "metadata": {},
   "outputs": [],
   "source": []
  }
 ],
 "metadata": {
  "kernelspec": {
   "display_name": "Factory_Safety",
   "language": "python",
   "name": "python3"
  },
  "language_info": {
   "codemirror_mode": {
    "name": "ipython",
    "version": 3
   },
   "file_extension": ".py",
   "mimetype": "text/x-python",
   "name": "python",
   "nbconvert_exporter": "python",
   "pygments_lexer": "ipython3",
   "version": "3.9.18"
  }
 },
 "nbformat": 4,
 "nbformat_minor": 2
}
