{
 "cells": [
  {
   "cell_type": "code",
   "execution_count": 1,
   "metadata": {},
   "outputs": [
    {
     "name": "stdout",
     "output_type": "stream",
     "text": [
      "Files compressed successfully!\n"
     ]
    }
   ],
   "source": [
    "import tarfile\n",
    "import os\n",
    "import shutil\n",
    "\n",
    "def compress_files():\n",
    "  # Get the current directory\n",
    "  current_dir = os.getcwd()+'/assets'\n",
    "\n",
    "  # Create a tar archive to store the compressed files\n",
    "  with tarfile.open('assets.tar.gz', 'w:gz') as tar:\n",
    "    # Iterate over all the files in the current directory\n",
    "    for root, dirs, files in os.walk(current_dir):\n",
    "      for file in files:\n",
    "        # Get the absolute path of the file\n",
    "        file_path = os.path.join(root, file)\n",
    "        # Add the file to the tar archive\n",
    "        tar.add(file_path, arcname=os.path.relpath(file_path, current_dir))\n",
    "\n",
    "  print(\"Files compressed successfully!\")\n",
    "\n",
    "# Call the function to compress the files\n",
    "compress_files()\n"
   ]
  },
  {
   "cell_type": "code",
   "execution_count": null,
   "metadata": {},
   "outputs": [],
   "source": []
  },
  {
   "cell_type": "code",
   "execution_count": null,
   "metadata": {},
   "outputs": [],
   "source": []
  }
 ],
 "metadata": {
  "kernelspec": {
   "display_name": "giia",
   "language": "python",
   "name": "python3"
  },
  "language_info": {
   "codemirror_mode": {
    "name": "ipython",
    "version": 3
   },
   "file_extension": ".py",
   "mimetype": "text/x-python",
   "name": "python",
   "nbconvert_exporter": "python",
   "pygments_lexer": "ipython3",
   "version": "3.9.18"
  }
 },
 "nbformat": 4,
 "nbformat_minor": 2
}
