{
 "cells": [
  {
   "cell_type": "code",
   "execution_count": 1,
   "metadata": {},
   "outputs": [],
   "source": [
    "import mediapipe as mp\n",
    "import cv2\n",
    "import numpy as np\n",
    "import time\n",
    "import math\n",
    "import os\n",
    "import sys\n"
   ]
  },
  {
   "cell_type": "code",
   "execution_count": 2,
   "metadata": {},
   "outputs": [],
   "source": [
    "# init modules\n",
    "import facerecognition.face_rec as FaceRec\n",
    "import face_assessment.face_assessment as FaceAssess\n",
    "import illegal_action_detection.illegal_action_detection as IllegalAction\n",
    "import utils.api as API"
   ]
  },
  {
   "cell_type": "code",
   "execution_count": 3,
   "metadata": {},
   "outputs": [],
   "source": [
    "api = API.API(baseUrl=\"http://localhost:3000\", apiKey=\"ABCDE123\")"
   ]
  },
  {
   "cell_type": "code",
   "execution_count": 4,
   "metadata": {},
   "outputs": [
    {
     "name": "stdout",
     "output_type": "stream",
     "text": [
      "[]\n"
     ]
    }
   ],
   "source": [
    "FaceAssessment =  FaceAssess.FaceAssessment()\n",
    "\n",
    "IllegalActionDetection =  IllegalAction.IllegalActionDetection()\n",
    "\n",
    "FaceRecognition =  FaceRec.Face_detector()"
   ]
  },
  {
   "cell_type": "code",
   "execution_count": 5,
   "metadata": {},
   "outputs": [],
   "source": [
    "mp_holistic = mp.solutions.holistic\n",
    "mp_drawing = mp.solutions.drawing_utils"
   ]
  },
  {
   "cell_type": "code",
   "execution_count": 6,
   "metadata": {},
   "outputs": [],
   "source": [
    "cap=cv2.VideoCapture(0)\n",
    "flag=False\n",
    "cont=0\n",
    "dist=np.inf\n",
    "with mp_holistic.Holistic(min_detection_confidence=0.5, min_tracking_confidence=0.5) as holistic:\n",
    "    while cap.isOpened():\n",
    "        star_time = time.time()\n",
    "        ret,frame=cap.read()\n",
    "        res = holistic.process(cv2.cvtColor(frame, cv2.COLOR_BGR2RGB))\n",
    "        image = cv2.cvtColor(frame, cv2.COLOR_RGB2BGR)\n",
    "        \n",
    "        activities = []\n",
    "\n",
    "        # detect person name\n",
    "        operatorName = \"Unknown\"\n",
    "        names, boxes = FaceRecognition.detectface(image)\n",
    "        if names:\n",
    "            operatorName = names[0]\n",
    "\n",
    "\n",
    "        # detect illegal action\n",
    "        illegal_actions = IllegalActionDetection.detect(frame, res)\n",
    "        print(illegal_actions)\n",
    "\n",
    "        # detect face action\n",
    "        face_assessment = FaceAssess.detect(frame, res, operatorName)\n",
    "                \n",
    "\n",
    "\n",
    "        for activity in activities:\n",
    "            api.reportActivity(\n",
    "                activity={\n",
    "                    \"gravity\": activity.gravity,\n",
    "                    \"activity\": activity.name,\n",
    "                    \"operatorName\": operatorName,\n",
    "                }\n",
    "            )\n",
    "\n",
    "        image=cv2.cvtColor(image,cv2.COLOR_BGR2RGB)\n",
    "        cv2.putText(image, str(round(1/(time.time()-star_time),2)), (10, 30), cv2.FONT_HERSHEY_SIMPLEX, 1, (0, 255, 0), 2, cv2.LINE_AA)\n",
    "        star_time = time.time()\n",
    "\n",
    "        cv2.imshow('MediaPipe Holistic', image)\n",
    "        if cv2.waitKey(10) & 0xFF == ord('q'):\n",
    "            break\n",
    "      \n",
    "cv2.destroyAllWindows()\n",
    "cap.release()"
   ]
  }
 ],
 "metadata": {
  "kernelspec": {
   "display_name": "giia",
   "language": "python",
   "name": "python3"
  },
  "language_info": {
   "codemirror_mode": {
    "name": "ipython",
    "version": 3
   },
   "file_extension": ".py",
   "mimetype": "text/x-python",
   "name": "python",
   "nbconvert_exporter": "python",
   "pygments_lexer": "ipython3",
   "version": "3.9.18"
  }
 },
 "nbformat": 4,
 "nbformat_minor": 2
}
