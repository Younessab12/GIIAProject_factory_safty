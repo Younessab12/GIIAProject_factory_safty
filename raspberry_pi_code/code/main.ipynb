{
 "cells": [
  {
   "cell_type": "code",
   "execution_count": null,
   "metadata": {},
   "outputs": [],
   "source": [
    "import mediapipe as mp\n",
    "import cv2\n",
    "import numpy as np\n",
    "import time\n",
    "import math\n",
    "import os\n",
    "import sys\n"
   ]
  },
  {
   "cell_type": "code",
   "execution_count": null,
   "metadata": {},
   "outputs": [],
   "source": [
    "# init modules\n",
    "import face_assessment.face_assessment as fa\n",
    "# import face_recognition.face_recognition as fr\n",
    "# import face_tracking.face_tracking as ft\n",
    "\n",
    "import utils.api as API"
   ]
  },
  {
   "cell_type": "code",
   "execution_count": null,
   "metadata": {},
   "outputs": [],
   "source": [
    "api = API.API(baseUrl=\"http://localhost:3000\", apiKey=\"ABCDE123\")"
   ]
  },
  {
   "cell_type": "code",
   "execution_count": null,
   "metadata": {},
   "outputs": [],
   "source": [
    "FaceAssessment =  fa.FaceAssessment([\n",
    "  {\n",
    "    \"name\": \"face_assessment\",\n",
    "    \"link\": \"\",\n",
    "  }\n",
    "])"
   ]
  },
  {
   "cell_type": "code",
   "execution_count": null,
   "metadata": {},
   "outputs": [],
   "source": [
    "mp_holistic = mp.solutions.holistic\n",
    "mp_drawing = mp.solutions.drawing_utils"
   ]
  },
  {
   "cell_type": "code",
   "execution_count": null,
   "metadata": {},
   "outputs": [],
   "source": [
    "cap=cv2.VideoCapture(0)\n",
    "flag=False\n",
    "cont=0\n",
    "dist=np.inf\n",
    "with mp_holistic.Holistic(min_detection_confidence=0.5, min_tracking_confidence=0.5) as holistic:\n",
    "    while cap.isOpened():\n",
    "        star_time = time.time()\n",
    "        ret,frame=cap.read()\n",
    "        res = holistic.process(cv2.cvtColor(frame, cv2.COLOR_BGR2RGB))\n",
    "        image = cv2.cvtColor(frame, cv2.COLOR_RGB2BGR)\n",
    "        \n",
    "        activities = []\n",
    "\n",
    "        # detect person name\n",
    "        operatorName = \"Unknown\"\n",
    "\n",
    "        # detect illegal action\n",
    "\n",
    "        # detect face action\n",
    "        \n",
    "\n",
    "\n",
    "        for activity in activities:\n",
    "            api.reportActivity(\n",
    "                activity={\n",
    "                    \"gravity\": activity.gravity,\n",
    "                    \"activity\": activity.name,\n",
    "                    \"operatorName\": operatorName,\n",
    "                }\n",
    "            )\n",
    "\n",
    "        image=cv2.cvtColor(image,cv2.COLOR_BGR2RGB)\n",
    "        cv2.putText(image, str(round(1/(time.time()-star_time),2)), (10, 30), cv2.FONT_HERSHEY_SIMPLEX, 1, (0, 255, 0), 2, cv2.LINE_AA)\n",
    "        star_time = time.time()\n",
    "\n",
    "        cv2.imshow('MediaPipe Holistic', image)\n",
    "        if cv2.waitKey(10) & 0xFF == ord('q'):\n",
    "            break\n",
    "      \n",
    "cv2.destroyAllWindows()\n",
    "cap.release()"
   ]
  }
 ],
 "metadata": {
  "language_info": {
   "name": "python"
  }
 },
 "nbformat": 4,
 "nbformat_minor": 2
}
