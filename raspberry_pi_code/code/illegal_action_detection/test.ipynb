{
 "cells": [
  {
   "cell_type": "code",
   "execution_count": 1,
   "metadata": {},
   "outputs": [
    {
     "name": "stdout",
     "output_type": "stream",
     "text": [
      "WARNING:tensorflow:From c:\\Users\\Dell Latitude 5420\\.conda\\envs\\Factory_Safety\\lib\\site-packages\\keras\\src\\losses.py:2976: The name tf.losses.sparse_softmax_cross_entropy is deprecated. Please use tf.compat.v1.losses.sparse_softmax_cross_entropy instead.\n",
      "\n"
     ]
    }
   ],
   "source": [
    "import smocking"
   ]
  },
  {
   "cell_type": "code",
   "execution_count": 2,
   "metadata": {},
   "outputs": [
    {
     "ename": "TypeError",
     "evalue": "'NoneType' object is not iterable",
     "output_type": "error",
     "traceback": [
      "\u001b[1;31m---------------------------------------------------------------------------\u001b[0m",
      "\u001b[1;31mTypeError\u001b[0m                                 Traceback (most recent call last)",
      "Cell \u001b[1;32mIn[2], line 2\u001b[0m\n\u001b[0;32m      1\u001b[0m Detector \u001b[38;5;241m=\u001b[39m smocking\u001b[38;5;241m.\u001b[39mSmockingDetector()\n\u001b[1;32m----> 2\u001b[0m \u001b[43mDetector\u001b[49m\u001b[38;5;241;43m.\u001b[39;49m\u001b[43mmain\u001b[49m\u001b[43m(\u001b[49m\u001b[43m)\u001b[49m\n",
      "File \u001b[1;32mc:\\Users\\Dell Latitude 5420\\Desktop\\IA\\GIIAProject_factory_safty\\raspberry_pi_code\\code\\illegal_action_detection\\smocking.py:101\u001b[0m, in \u001b[0;36mSmockingDetector.main\u001b[1;34m(self)\u001b[0m\n\u001b[0;32m     78\u001b[0m \u001b[38;5;66;03m# if res.right_hand_landmarks and res.face_landmarks :\u001b[39;00m\n\u001b[0;32m     79\u001b[0m \u001b[38;5;66;03m#     dist=self.calculate_distance(res.right_hand_landmarks.landmark[13],res.face_landmarks.landmark[13],res.face_landmarks.landmark[152],res.face_landmarks.landmark[10])\u001b[39;00m\n\u001b[0;32m     80\u001b[0m \u001b[38;5;66;03m# if res.left_hand_landmarks and res.face_landmarks :\u001b[39;00m\n\u001b[1;32m   (...)\u001b[0m\n\u001b[0;32m     98\u001b[0m \u001b[38;5;66;03m# cv2.putText(image, str(round(1/(time.time()-star_time),2)), (10, 30), cv2.FONT_HERSHEY_SIMPLEX, 1, (0, 255, 0), 2, cv2.LINE_AA)\u001b[39;00m\n\u001b[0;32m     99\u001b[0m \u001b[38;5;66;03m# star_time = time.time()\u001b[39;00m\n\u001b[0;32m    100\u001b[0m res \u001b[38;5;241m=\u001b[39m \u001b[38;5;28mself\u001b[39m\u001b[38;5;241m.\u001b[39mdetect(image,res\u001b[38;5;241m.\u001b[39mright_hand_landmarks,res\u001b[38;5;241m.\u001b[39mleft_hand_landmarks,res\u001b[38;5;241m.\u001b[39mface_landmarks)\n\u001b[1;32m--> 101\u001b[0m \u001b[38;5;28mprint\u001b[39m(\u001b[38;5;28;43mlist\u001b[39;49m\u001b[43m(\u001b[49m\u001b[43mres\u001b[49m\u001b[43m)\u001b[49m)\n\u001b[0;32m    102\u001b[0m \u001b[38;5;66;03m# image = self.draw_bounding_box(image,res)\u001b[39;00m\n\u001b[0;32m    103\u001b[0m cv2\u001b[38;5;241m.\u001b[39mimshow(\u001b[38;5;124m'\u001b[39m\u001b[38;5;124mMediaPipe Holistic\u001b[39m\u001b[38;5;124m'\u001b[39m, image)\n",
      "\u001b[1;31mTypeError\u001b[0m: 'NoneType' object is not iterable"
     ]
    }
   ],
   "source": [
    "Detector = smocking.SmockingDetector()\n",
    "Detector.main()"
   ]
  },
  {
   "cell_type": "code",
   "execution_count": 3,
   "metadata": {},
   "outputs": [],
   "source": [
    "import cv2\n",
    "cv2.destroyAllWindows()"
   ]
  },
  {
   "cell_type": "code",
   "execution_count": null,
   "metadata": {},
   "outputs": [],
   "source": []
  }
 ],
 "metadata": {
  "kernelspec": {
   "display_name": "Factory_Safety",
   "language": "python",
   "name": "python3"
  },
  "language_info": {
   "codemirror_mode": {
    "name": "ipython",
    "version": 3
   },
   "file_extension": ".py",
   "mimetype": "text/x-python",
   "name": "python",
   "nbconvert_exporter": "python",
   "pygments_lexer": "ipython3",
   "version": "3.9.18"
  }
 },
 "nbformat": 4,
 "nbformat_minor": 2
}
