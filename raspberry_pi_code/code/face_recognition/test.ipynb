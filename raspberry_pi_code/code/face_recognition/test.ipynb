{
 "cells": [
  {
   "cell_type": "code",
   "execution_count": 1,
   "metadata": {},
   "outputs": [],
   "source": [
    "import cv2\n",
    "import face_req\n",
    "import numpy as np"
   ]
  },
  {
   "cell_type": "code",
   "execution_count": 2,
   "metadata": {},
   "outputs": [],
   "source": [
    "Detector = face_req.Face_detector()"
   ]
  },
  {
   "cell_type": "code",
   "execution_count": 3,
   "metadata": {},
   "outputs": [
    {
     "name": "stdout",
     "output_type": "stream",
     "text": [
      "youness aabibi\n",
      "(['youness aabibi'], [(202, 408, 356, 253)])\n",
      "youness aabibi\n",
      "(['youness aabibi'], [(202, 425, 356, 270)])\n",
      "youness aabibi\n",
      "(['youness aabibi'], [(202, 425, 356, 270)])\n",
      "youness aabibi\n",
      "(['youness aabibi'], [(202, 425, 356, 270)])\n",
      "youness aabibi\n",
      "(['youness aabibi'], [(202, 425, 356, 270)])\n",
      "youness aabibi\n",
      "(['youness aabibi'], [(202, 425, 356, 270)])\n",
      "youness aabibi\n",
      "(['youness aabibi'], [(184, 408, 339, 253)])\n",
      "youness aabibi\n",
      "(['youness aabibi'], [(160, 407, 345, 221)])\n",
      "youness aabibi\n",
      "(['youness aabibi'], [(160, 407, 345, 221)])\n",
      "youness aabibi\n",
      "(['youness aabibi'], [(160, 407, 345, 221)])\n",
      "youness aabibi\n",
      "(['youness aabibi'], [(160, 407, 345, 221)])\n",
      "youness aabibi\n",
      "(['youness aabibi'], [(139, 324, 325, 139)])\n",
      "None\n",
      "None\n",
      "None\n",
      "youness aabibi\n",
      "(['youness aabibi'], [(139, 262, 325, 77)])\n",
      "youness aabibi\n",
      "(['youness aabibi'], [(167, 253, 322, 98)])\n",
      "None\n",
      "None\n",
      "youness aabibi\n",
      "(['youness aabibi'], [(139, 304, 325, 118)])\n",
      "youness aabibi\n",
      "(['youness aabibi'], [(160, 448, 345, 262)])\n",
      "youness aabibi\n",
      "(['youness aabibi'], [(160, 448, 345, 262)])\n",
      "youness aabibi\n",
      "(['youness aabibi'], [(160, 448, 345, 262)])\n",
      "youness aabibi\n",
      "(['youness aabibi'], [(184, 425, 339, 270), (153, 110, 282, 0)])\n",
      "youness aabibi\n",
      "(['youness aabibi'], [(184, 390, 339, 236), (168, 167, 297, 38)])\n",
      "youness aabibi\n",
      "(['youness aabibi'], [(202, 390, 356, 236)])\n",
      "youness aabibi\n",
      "(['youness aabibi'], [(202, 390, 356, 236)])\n",
      "youness aabibi\n",
      "(['youness aabibi'], [(202, 390, 356, 236)])\n",
      "None\n",
      "ABDO\n",
      "(['ABDO'], [(167, 184, 322, 29)])\n",
      "None\n",
      "ABDO\n",
      "(['ABDO'], [(168, 167, 297, 38)])\n",
      "None\n",
      "None\n",
      "ABDO\n",
      "(['ABDO'], [(167, 184, 322, 29)])\n",
      "None\n",
      "youness aabibi\n",
      "(['youness aabibi'], [(139, 531, 325, 345), (167, 201, 322, 46)])\n",
      "None\n",
      "ABDO\n",
      "(['ABDO'], [(150, 167, 305, 12)])\n",
      "None\n",
      "youness aabibi\n",
      "(['youness aabibi'], [(150, 132, 305, 0)])\n",
      "None\n",
      "None\n",
      "None\n",
      "None\n",
      "None\n",
      "None\n",
      "None\n",
      "None\n",
      "None\n",
      "ABDO\n",
      "(['ABDO'], [(168, 139, 297, 10)])\n",
      "None\n",
      "None\n",
      "None\n",
      "None\n",
      "None\n",
      "None\n",
      "None\n",
      "youness aabibi\n",
      "(['youness aabibi'], [(192, 613, 415, 390)])\n"
     ]
    }
   ],
   "source": [
    "cam=cv2.VideoCapture(0)\n",
    "while True:\n",
    "    ret, frame = cam.read()\n",
    "    if not ret:\n",
    "        break\n",
    "    print(Detector.detectface(frame))\n",
    "    cv2.imshow(\"frame\", frame)\n",
    "    if cv2.waitKey(1) == ord('q'):\n",
    "        break\n",
    "cam.release()\n",
    "cv2.destroyAllWindows()\n"
   ]
  },
  {
   "cell_type": "code",
   "execution_count": 4,
   "metadata": {},
   "outputs": [],
   "source": [
    "cam.release()"
   ]
  },
  {
   "cell_type": "code",
   "execution_count": null,
   "metadata": {},
   "outputs": [],
   "source": []
  }
 ],
 "metadata": {
  "kernelspec": {
   "display_name": "Factory_Safety",
   "language": "python",
   "name": "python3"
  },
  "language_info": {
   "codemirror_mode": {
    "name": "ipython",
    "version": 3
   },
   "file_extension": ".py",
   "mimetype": "text/x-python",
   "name": "python",
   "nbconvert_exporter": "python",
   "pygments_lexer": "ipython3",
   "version": "3.9.18"
  }
 },
 "nbformat": 4,
 "nbformat_minor": 2
}
