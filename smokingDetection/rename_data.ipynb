{
 "cells": [
  {
   "cell_type": "code",
   "execution_count": 1,
   "metadata": {},
   "outputs": [],
   "source": [
    "import os"
   ]
  },
  {
   "cell_type": "code",
   "execution_count": 7,
   "metadata": {},
   "outputs": [
    {
     "name": "stdout",
     "output_type": "stream",
     "text": [
      "All Files Renamed\n",
      "['img_1.jpg', 'img_100.jpg', 'img_101.jpeg', 'img_102.jpg', 'img_103.jpg', 'img_104.jpg', 'img_105.jpg', 'img_106.jpg', 'img_107.jpg', 'img_108.jpeg', 'img_109.jpg', 'img_11.jpeg', 'img_110.jpg', 'img_111.jpeg', 'img_112.jpg', 'img_113.jpg', 'img_114.jpg', 'img_115.jpg', 'img_116.jpg', 'img_117.jpg', 'img_118.jpg', 'img_119.jpg', 'img_12.jpeg', 'img_120.jpg', 'img_121.jpg', 'img_122.jpg', 'img_123.jpg', 'img_124.jpg', 'img_125.jpg', 'img_126.jpg', 'img_127.jpg', 'img_128.jpg', 'img_129.jpg', 'img_13.jpg', 'img_130.jpg', 'img_131.png', 'img_132.jpg', 'img_133.jpg', 'img_134.jpg', 'img_135.jpg', 'img_136.jpg', 'img_137.jpg', 'img_138.jpg', 'img_139.jpeg', 'img_14.jpeg', 'img_140.jpg', 'img_141.jpg', 'img_142.jpeg', 'img_143.jpg', 'img_144.jpg', 'img_145.jpg', 'img_146.jpg', 'img_147.jpg', 'img_148.jpg', 'img_149.jpg', 'img_15.jpeg', 'img_150.jpg', 'img_151.jpg', 'img_152.png', 'img_153.jpg', 'img_154.jpg', 'img_155.jpg', 'img_156.jpg', 'img_157.jpg', 'img_158.jpg', 'img_159.jpg', 'img_16.jpeg', 'img_160.jpg', 'img_161.jpg', 'img_162.jpg', 'img_163.png', 'img_164.jpg', 'img_165.jpg', 'img_166.jpg', 'img_167.jpg', 'img_168.jpg', 'img_169.jpg', 'img_17.jpeg', 'img_170.jpg', 'img_171.jpeg', 'img_172.jpg', 'img_173.jpg', 'img_174.jpg', 'img_175.jpg', 'img_176.jpg', 'img_177.jpg', 'img_178.jpg', 'img_179.jpg', 'img_18.jpeg', 'img_180.jpg', 'img_181.jpg', 'img_182.jpg', 'img_183.jpg', 'img_184.jpg', 'img_185.jpg', 'img_186.jpg', 'img_187.jpg', 'img_188.jpg', 'img_189.jpg', 'img_19.jpeg', 'img_190.jpeg', 'img_191.jpg', 'img_192.jpg', 'img_193.jpg', 'img_194.jpeg', 'img_195.jpeg', 'img_196.jpg', 'img_197.jpeg', 'img_198.jpg', 'img_199.jpg', 'img_2.jpeg', 'img_2.jpg', 'img_20.jpeg', 'img_200.jpeg', 'img_201.jpeg', 'img_202.jpg', 'img_203.jpeg', 'img_204.jpeg', 'img_205.jpg', 'img_206.jpeg', 'img_207.jpeg', 'img_208.jpg', 'img_209.jpg', 'img_21.jpeg', 'img_210.jpg', 'img_211.jpg', 'img_212.jpeg', 'img_213.jpg', 'img_214.jpg', 'img_215.jpg', 'img_216.jpg', 'img_217.jpg', 'img_218.jpeg', 'img_219.jpeg', 'img_22.jpeg', 'img_220.jpg', 'img_221.jpeg', 'img_222.jpeg', 'img_223.jpg', 'img_224.jpeg', 'img_225.jpg', 'img_226.jpeg', 'img_227.jpeg', 'img_228.jpg', 'img_229.jpeg', 'img_23.jpeg', 'img_230.jpg', 'img_231.jpeg', 'img_232.jpg', 'img_233.jpeg', 'img_234.jpg', 'img_235.jpg', 'img_236.jpg', 'img_237.jpg', 'img_238.jpg', 'img_239.jpg', 'img_24.jpg', 'img_240.jpeg', 'img_241.jpeg', 'img_242.jpeg', 'img_243.jpeg', 'img_244.jpeg', 'img_245.jpg', 'img_246.jpeg', 'img_247.jpeg', 'img_248.jpeg', 'img_249.jpeg', 'img_25.jpeg', 'img_250.jpeg', 'img_251.jpg', 'img_252.jpeg', 'img_253.jpeg', 'img_254.jpeg', 'img_255.jpeg', 'img_256.jpg', 'img_257.jpeg', 'img_258.jpeg', 'img_259.jpeg', 'img_26.jpeg', 'img_260.jpg', 'img_261.jpg', 'img_262.jpg', 'img_263.jpg', 'img_264.jpg', 'img_265.jpg', 'img_266.jpg', 'img_27.jpeg', 'img_28.jpeg', 'img_29.jpeg', 'img_3.jpg', 'img_30.jpeg', 'img_31.jpeg', 'img_32.jpeg', 'img_33.jpeg', 'img_34.png', 'img_35.jpeg', 'img_36.jpg', 'img_37.jpeg', 'img_38.jpg', 'img_39.jpeg', 'img_4.jpg', 'img_40.jpeg', 'img_41.jpg', 'img_42.jpg', 'img_43.jpg', 'img_44.jpg', 'img_45.jpg', 'img_46.jpeg', 'img_47.jpg', 'img_48.jpg', 'img_49.jpg', 'img_5.jpeg', 'img_50.png', 'img_51.jpg', 'img_52.jpg', 'img_53.jpg', 'img_54.jpg', 'img_55.jpg', 'img_56.jpg', 'img_57.jpg', 'img_58.jpg', 'img_59.jpg', 'img_6.jpeg', 'img_60.jpg', 'img_61.jpg', 'img_62.jpg', 'img_63.jpg', 'img_64.jpg', 'img_65.jpg', 'img_66.jpg', 'img_67.png', 'img_68.jpg', 'img_69.jpg', 'img_7.jpeg', 'img_70.jpg', 'img_71.jpg', 'img_72.jpg', 'img_73.jpg', 'img_74.jpg', 'img_75.jpg', 'img_76.jpg', 'img_77.jpg', 'img_78.jpg', 'img_79.jpeg', 'img_8.jpeg', 'img_80.jpg', 'img_81.jpg', 'img_82.jpg', 'img_83.jpg', 'img_84.jpg', 'img_85.jpg', 'img_86.jpeg', 'img_87.jpg', 'img_88.png', 'img_89.jpg', 'img_9.jpg', 'img_90.jpg', 'img_91.jpg', 'img_92.jpg', 'img_93.jpg', 'img_94.jpg', 'img_95.jpg', 'img_96.jpg', 'img_97.jpg', 'img_98.jpg', 'img_99.png']\n",
      "{'jpg': 181, 'jpeg': 77, 'png': 8}\n"
     ]
    }
   ],
   "source": [
    "folder = r'data/'\n",
    "count = 1\n",
    "# count increase by 1 in each iteration\n",
    "# iterate all files from a directory\n",
    "\n",
    "mp = {}\n",
    "for file_name in os.listdir(folder):\n",
    "    # Construct old file name\n",
    "    source = folder + file_name\n",
    "    ext = file_name.split('.')[-1]\n",
    "\n",
    "    if ext in mp.keys():\n",
    "        mp[ext]+=1\n",
    "    else :\n",
    "        mp[ext]=1\n",
    "\n",
    "    # Adding the count to the new file name and extension\n",
    "    # destination = folder + f'img_{count}' + \".\" + ext\n",
    "\n",
    "    # Renaming the file\n",
    "    # os.rename(source, destination)\n",
    "    count += 1\n",
    "\n",
    "print('All Files Renamed')\n",
    "\n",
    "# verify the result\n",
    "res = os.listdir(folder)\n",
    "print(res)\n",
    "\n",
    "print(mp)"
   ]
  }
 ],
 "metadata": {
  "kernelspec": {
   "display_name": "giia",
   "language": "python",
   "name": "python3"
  },
  "language_info": {
   "codemirror_mode": {
    "name": "ipython",
    "version": 3
   },
   "file_extension": ".py",
   "mimetype": "text/x-python",
   "name": "python",
   "nbconvert_exporter": "python",
   "pygments_lexer": "ipython3",
   "version": "3.9.18"
  }
 },
 "nbformat": 4,
 "nbformat_minor": 2
}
