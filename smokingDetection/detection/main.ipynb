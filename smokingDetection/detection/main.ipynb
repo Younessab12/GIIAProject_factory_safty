{
 "cells": [
  {
   "cell_type": "code",
   "execution_count": 2,
   "metadata": {},
   "outputs": [],
   "source": [
    "import clean_code\n",
    "import numpy as np\n",
    "import mediapipe as mp\n",
    "import cv2\n",
    "import time"
   ]
  },
  {
   "cell_type": "code",
   "execution_count": 3,
   "metadata": {},
   "outputs": [],
   "source": [
    "detector = clean_code.Detector(\"bestnano.pt\")"
   ]
  },
  {
   "cell_type": "code",
   "execution_count": 4,
   "metadata": {},
   "outputs": [
    {
     "name": "stdout",
     "output_type": "stream",
     "text": [
      "[tensor([331., 224., 372., 235.]), tensor(0.52300), 'smoking']\n",
      "[tensor([331., 224., 372., 236.]), tensor(0.63438), 'smoking']\n",
      "[tensor([330., 227., 375., 238.]), tensor(0.55298), 'smoking']\n",
      "[tensor([331., 227., 376., 239.]), tensor(0.52044), 'smoking']\n",
      "[tensor([331., 227., 372., 238.]), tensor(0.64703), 'smoking']\n",
      "[tensor([330., 226., 374., 238.]), tensor(0.65903), 'smoking']\n",
      "[tensor([332., 226., 374., 238.]), tensor(0.62625), 'smoking']\n",
      "[tensor([333., 224., 376., 236.]), tensor(0.58566), 'smoking']\n",
      "[tensor([334., 222., 376., 234.]), tensor(0.54841), 'smoking']\n",
      "[tensor([333., 222., 383., 236.]), tensor(0.70669), 'smoking']\n",
      "[tensor([336., 221., 384., 235.]), tensor(0.67404), 'smoking']\n",
      "[tensor([338., 221., 380., 238.]), tensor(0.73063), 'smoking']\n",
      "[tensor([314., 212., 361., 225.]), tensor(0.63060), 'smoking']\n",
      "[tensor([315., 209., 374., 223.]), tensor(0.50644), 'smoking']\n",
      "[tensor([316., 208., 365., 221.]), tensor(0.63984), 'smoking']\n",
      "[tensor([316., 211., 366., 225.]), tensor(0.63930), 'smoking']\n",
      "[tensor([316., 218., 391., 242.]), tensor(0.64696), 'smoking']\n",
      "[tensor([265., 323., 290., 365.]), tensor(0.58349), 'smoking']\n",
      "[tensor([214., 122., 258., 132.]), tensor(0.68005), 'smoking']\n",
      "[tensor([245., 158., 320., 184.]), tensor(0.50114), 'smoking']\n",
      "[tensor([282., 157., 322., 164.]), tensor(0.52291), 'smoking']\n",
      "[tensor([221., 133., 256., 163.]), tensor(0.58630), 'smoking']\n",
      "[tensor([  0., 273., 122., 309.]), tensor(0.50365), 'smoking']\n"
     ]
    }
   ],
   "source": [
    "mp_holistic = mp.solutions.holistic\n",
    "mp_drawing = mp.solutions.drawing_utils\n",
    "mp_drawing_styles = mp.solutions.drawing_styles\n",
    "cap=cv2.VideoCapture(0)\n",
    "flag=False\n",
    "cont=0\n",
    "dist=np.inf\n",
    "with mp_holistic.Holistic(min_detection_confidence=0.5, min_tracking_confidence=0.5) as holistic:\n",
    "    while cap.isOpened():\n",
    "        star_time = time.time()\n",
    "        ret,frame=cap.read()\n",
    "        res = holistic.process(cv2.cvtColor(frame, cv2.COLOR_BGR2RGB))\n",
    "        image = cv2.cvtColor(frame, cv2.COLOR_RGB2BGR)\n",
    "        # mp_drawing.draw_landmarks(\n",
    "        #     image,\n",
    "        #     res.face_landmarks,\n",
    "        #     mp_holistic.FACEMESH_CONTOURS,\n",
    "        #     landmark_drawing_spec=None,\n",
    "        #     connection_drawing_spec=mp_drawing_styles\n",
    "        #     .get_default_face_mesh_contours_style())\n",
    "        # mp_drawing.draw_landmarks(\n",
    "        #     image,\n",
    "        #     res.pose_landmarks,\n",
    "        #     mp_holistic.POSE_CONNECTIONS,\n",
    "        #     landmark_drawing_spec=mp_drawing_styles\n",
    "        #     .get_default_pose_landmarks_style())\n",
    "        # mp_drawing.draw_landmarks(\n",
    "        #     image,\n",
    "        #     res.left_hand_landmarks,\n",
    "        #     mp_holistic.HAND_CONNECTIONS,\n",
    "        #     landmark_drawing_spec=mp_drawing_styles\n",
    "        #     .get_default_hand_landmarks_style())\n",
    "        # mp_drawing.draw_landmarks(\n",
    "        #     image,\n",
    "        #     res.right_hand_landmarks,\n",
    "        #     mp_holistic.HAND_CONNECTIONS,\n",
    "        #     landmark_drawing_spec=mp_drawing_styles\n",
    "        #     .get_default_hand_landmarks_style())\n",
    "        \n",
    "        if res.right_hand_landmarks and res.face_landmarks :\n",
    "            dist=detector.calculate_distance(res.right_hand_landmarks.landmark[13],res.face_landmarks.landmark[13],res.face_landmarks.landmark[152],res.face_landmarks.landmark[10])\n",
    "        if res.left_hand_landmarks and res.face_landmarks :\n",
    "            dist=detector.calculate_distance(res.left_hand_landmarks.landmark[13],res.face_landmarks.landmark[13],res.face_landmarks.landmark[152],res.face_landmarks.landmark[10])\n",
    "        \n",
    "        if dist<0.8:\n",
    "            flag=True\n",
    "            \n",
    "        if flag and cont<10:\n",
    "            cont+=1\n",
    "            detection_result=detector.detect(frame)\n",
    "            if detection_result:\n",
    "                image=detector.draw_bounding_box(image,list(detection_result))\n",
    "                print(list(detection_result))\n",
    "            if cont==10:\n",
    "                flag=False\n",
    "                cont=0\n",
    "                dist=np.inf\n",
    "\n",
    "        image=cv2.cvtColor(image,cv2.COLOR_BGR2RGB)\n",
    "        cv2.putText(image, str(round(1/(time.time()-star_time),2)), (10, 30), cv2.FONT_HERSHEY_SIMPLEX, 1, (0, 255, 0), 2, cv2.LINE_AA)\n",
    "        star_time = time.time()\n",
    "\n",
    "        cv2.imshow('MediaPipe Holistic', image)\n",
    "        if cv2.waitKey(10) & 0xFF == ord('q'):\n",
    "            break\n",
    "cv2.destroyAllWindows()\n",
    "cap.release()"
   ]
  },
  {
   "cell_type": "code",
   "execution_count": 11,
   "metadata": {},
   "outputs": [],
   "source": [
    "cv2.destroyAllWindows()\n",
    "cap.release()"
   ]
  },
  {
   "cell_type": "code",
   "execution_count": 11,
   "metadata": {},
   "outputs": [
    {
     "name": "stdout",
     "output_type": "stream",
     "text": [
      "[tensor([266., 346., 324., 371.]), tensor(0.77681), 'smoking']\n",
      "[tensor([269., 320., 329., 339.]), tensor(0.78953), 'smoking']\n",
      "[tensor([268., 327., 330., 344.]), tensor(0.80476), 'smoking']\n",
      "[tensor([255., 322., 326., 343.]), tensor(0.78515), 'smoking']\n",
      "[tensor([235., 321., 323., 344.]), tensor(0.68243), 'smoking']\n",
      "[tensor([245., 321., 321., 343.]), tensor(0.79493), 'smoking']\n",
      "[tensor([245., 322., 322., 343.]), tensor(0.66208), 'smoking']\n",
      "[tensor([254., 322., 322., 344.]), tensor(0.77207), 'smoking']\n",
      "[tensor([258., 318., 325., 345.]), tensor(0.92782), 'smoking']\n",
      "[tensor([259., 318., 326., 345.]), tensor(0.94218), 'smoking']\n",
      "[tensor([258., 318., 325., 345.]), tensor(0.93828), 'smoking']\n",
      "[tensor([255., 317., 321., 344.]), tensor(0.88254), 'smoking']\n",
      "[tensor([255., 318., 320., 344.]), tensor(0.84708), 'smoking']\n",
      "[tensor([255., 317., 321., 342.]), tensor(0.85552), 'smoking']\n",
      "[tensor([259., 316., 324., 342.]), tensor(0.91690), 'smoking']\n",
      "[tensor([258., 317., 325., 342.]), tensor(0.92582), 'smoking']\n",
      "[tensor([256., 319., 324., 342.]), tensor(0.89243), 'smoking']\n",
      "[tensor([259., 317., 325., 342.]), tensor(0.92244), 'smoking']\n",
      "[tensor([254., 318., 323., 341.]), tensor(0.82839), 'smoking']\n",
      "[tensor([257., 319., 324., 342.]), tensor(0.91352), 'smoking']\n",
      "[tensor([256., 316., 316., 342.]), tensor(0.80483), 'smoking']\n",
      "[tensor([179., 358., 299., 382.]), tensor(0.60626), 'smoking']\n",
      "[tensor([165., 403., 271., 429.]), tensor(0.73749), 'smoking']\n",
      "[tensor([138., 417., 255., 440.]), tensor(0.57017), 'smoking']\n"
     ]
    }
   ],
   "source": [
    "detector.main()"
   ]
  },
  {
   "cell_type": "code",
   "execution_count": null,
   "metadata": {},
   "outputs": [],
   "source": []
  }
 ],
 "metadata": {
  "kernelspec": {
   "display_name": "Factory_Safety",
   "language": "python",
   "name": "python3"
  },
  "language_info": {
   "codemirror_mode": {
    "name": "ipython",
    "version": 3
   },
   "file_extension": ".py",
   "mimetype": "text/x-python",
   "name": "python",
   "nbconvert_exporter": "python",
   "pygments_lexer": "ipython3",
   "version": "3.9.18"
  }
 },
 "nbformat": 4,
 "nbformat_minor": 2
}
