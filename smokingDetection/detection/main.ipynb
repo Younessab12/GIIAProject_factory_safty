{
 "cells": [
  {
   "cell_type": "code",
   "execution_count": 1,
   "metadata": {},
   "outputs": [
    {
     "name": "stdout",
     "output_type": "stream",
     "text": [
      "WARNING:tensorflow:From c:\\Users\\Dell Latitude 5420\\.conda\\envs\\Factory_Safety\\lib\\site-packages\\keras\\src\\losses.py:2976: The name tf.losses.sparse_softmax_cross_entropy is deprecated. Please use tf.compat.v1.losses.sparse_softmax_cross_entropy instead.\n",
      "\n"
     ]
    }
   ],
   "source": [
    "import clean_code\n",
    "import numpy as np\n",
    "import mediapipe as mp\n",
    "import cv2"
   ]
  },
  {
   "cell_type": "code",
   "execution_count": 2,
   "metadata": {},
   "outputs": [],
   "source": [
    "detector = clean_code.Detector(\"bestnano.pt\")"
   ]
  },
  {
   "cell_type": "code",
   "execution_count": 6,
   "metadata": {},
   "outputs": [
    {
     "name": "stdout",
     "output_type": "stream",
     "text": [
      "[tensor([285., 320., 342., 331.]), tensor(0.61744), 'smoking']\n",
      "[tensor([308., 313., 323., 327.]), tensor(0.70586), 'smoking']\n",
      "[tensor([308., 313., 323., 327.]), tensor(0.66533), 'smoking']\n",
      "[tensor([310., 313., 326., 327.]), tensor(0.65115), 'smoking']\n",
      "[tensor([310., 313., 323., 327.]), tensor(0.60500), 'smoking']\n",
      "[tensor([310., 311., 324., 327.]), tensor(0.61819), 'smoking']\n",
      "[tensor([310., 312., 323., 328.]), tensor(0.51701), 'smoking']\n",
      "[tensor([309., 312., 323., 327.]), tensor(0.64641), 'smoking']\n",
      "[tensor([310., 311., 323., 327.]), tensor(0.71572), 'smoking']\n",
      "[tensor([308., 312., 323., 327.]), tensor(0.69325), 'smoking']\n",
      "[tensor([310., 311., 323., 328.]), tensor(0.65231), 'smoking']\n",
      "[tensor([310., 311., 322., 327.]), tensor(0.60343), 'smoking']\n",
      "[tensor([309., 310., 320., 326.]), tensor(0.51175), 'smoking']\n",
      "[tensor([288., 310., 307., 326.]), tensor(0.56623), 'smoking']\n",
      "[tensor([147., 332., 194., 359.]), tensor(0.68804), 'smoking']\n",
      "[tensor([137., 337., 190., 367.]), tensor(0.67942), 'smoking']\n",
      "[tensor([138., 344., 188., 373.]), tensor(0.61122), 'smoking']\n",
      "[tensor([139., 346., 187., 372.]), tensor(0.82186), 'smoking']\n",
      "[tensor([328., 366., 358., 383.]), tensor(0.56007), 'smoking']\n",
      "[tensor([328., 366., 356., 383.]), tensor(0.60493), 'smoking']\n",
      "[tensor([329., 366., 357., 383.]), tensor(0.54491), 'smoking']\n",
      "[tensor([328., 366., 358., 385.]), tensor(0.62912), 'smoking']\n",
      "[tensor([327., 367., 358., 385.]), tensor(0.70295), 'smoking']\n",
      "[tensor([329., 367., 357., 385.]), tensor(0.62306), 'smoking']\n",
      "[tensor([327., 366., 360., 384.]), tensor(0.62313), 'smoking']\n",
      "[tensor([326., 366., 358., 385.]), tensor(0.68304), 'smoking']\n",
      "[tensor([329., 365., 356., 384.]), tensor(0.65575), 'smoking']\n",
      "[tensor([326., 365., 358., 384.]), tensor(0.62215), 'smoking']\n",
      "[tensor([329., 365., 356., 383.]), tensor(0.61787), 'smoking']\n",
      "[tensor([328., 365., 356., 384.]), tensor(0.62298), 'smoking']\n",
      "[tensor([328., 365., 356., 382.]), tensor(0.54213), 'smoking']\n",
      "[tensor([326., 366., 358., 386.]), tensor(0.66802), 'smoking']\n",
      "[tensor([328., 366., 358., 384.]), tensor(0.50388), 'smoking']\n",
      "[tensor([337., 369., 359., 386.]), tensor(0.50232), 'smoking']\n"
     ]
    }
   ],
   "source": [
    "mp_holistic = mp.solutions.holistic\n",
    "mp_drawing = mp.solutions.drawing_utils\n",
    "mp_drawing_styles = mp.solutions.drawing_styles\n",
    "cap=cv2.VideoCapture(0)\n",
    "flag=False\n",
    "cont=0\n",
    "dist=np.inf\n",
    "with mp_holistic.Holistic(min_detection_confidence=0.5, min_tracking_confidence=0.5) as holistic:\n",
    "    while cap.isOpened():\n",
    "        ret,frame=cap.read()\n",
    "        res = holistic.process(cv2.cvtColor(frame, cv2.COLOR_BGR2RGB))\n",
    "        image = cv2.cvtColor(frame, cv2.COLOR_RGB2BGR)\n",
    "        mp_drawing.draw_landmarks(\n",
    "            image,\n",
    "            res.face_landmarks,\n",
    "            mp_holistic.FACEMESH_CONTOURS,\n",
    "            landmark_drawing_spec=None,\n",
    "            connection_drawing_spec=mp_drawing_styles\n",
    "            .get_default_face_mesh_contours_style())\n",
    "        # mp_drawing.draw_landmarks(\n",
    "        #     image,\n",
    "        #     res.pose_landmarks,\n",
    "        #     mp_holistic.POSE_CONNECTIONS,\n",
    "        #     landmark_drawing_spec=mp_drawing_styles\n",
    "        #     .get_default_pose_landmarks_style())\n",
    "        mp_drawing.draw_landmarks(\n",
    "            image,\n",
    "            res.left_hand_landmarks,\n",
    "            mp_holistic.HAND_CONNECTIONS,\n",
    "            landmark_drawing_spec=mp_drawing_styles\n",
    "            .get_default_hand_landmarks_style())\n",
    "        mp_drawing.draw_landmarks(\n",
    "            image,\n",
    "            res.right_hand_landmarks,\n",
    "            mp_holistic.HAND_CONNECTIONS,\n",
    "            landmark_drawing_spec=mp_drawing_styles\n",
    "            .get_default_hand_landmarks_style())\n",
    "        \n",
    "        if res.right_hand_landmarks and res.face_landmarks :\n",
    "            for i in range(21):\n",
    "                x,y,z=res.right_hand_landmarks.landmark[i].x,res.right_hand_landmarks.landmark[i].y,res.right_hand_landmarks.landmark[i].z\n",
    "                cv2.putText(image,str(i),(int(x*640),int(y*480)),cv2.FONT_HERSHEY_SIMPLEX,0.5,(0,0,255),1)\n",
    "            dist=detector.calculate_distance(res.right_hand_landmarks.landmark[13],res.face_landmarks.landmark[13],res.face_landmarks.landmark[152],res.face_landmarks.landmark[10])\n",
    "        if res.left_hand_landmarks :\n",
    "            for i in range(21):\n",
    "                x,y,z=res.left_hand_landmarks.landmark[i].x,res.left_hand_landmarks.landmark[i].y,res.left_hand_landmarks.landmark[i].z\n",
    "                cv2.putText(image,str(i),(int(x*640),int(y*480)),cv2.FONT_HERSHEY_SIMPLEX,0.5,(0,0,255),1)\n",
    "        \n",
    "        if dist<0.9:\n",
    "            flag=True\n",
    "            \n",
    "        if flag and cont<10:\n",
    "            cont+=1\n",
    "            detection_result=detector.detect(frame)\n",
    "            if detection_result:\n",
    "                print(detection_result)\n",
    "            if cont==10:\n",
    "                flag=False\n",
    "                cont=0\n",
    "                dist=np.inf\n",
    "\n",
    "        image=cv2.cvtColor(image,cv2.COLOR_BGR2RGB)\n",
    "\n",
    "        cv2.imshow('MediaPipe Holistic', image)\n",
    "        if cv2.waitKey(10) & 0xFF == ord('q'):\n",
    "            break\n",
    "cv2.destroyAllWindows()\n",
    "cap.release()"
   ]
  },
  {
   "cell_type": "code",
   "execution_count": null,
   "metadata": {},
   "outputs": [],
   "source": [
    "cv2.destroyAllWindows()\n",
    "cap.release()"
   ]
  },
  {
   "cell_type": "code",
   "execution_count": null,
   "metadata": {},
   "outputs": [],
   "source": []
  }
 ],
 "metadata": {
  "kernelspec": {
   "display_name": "Factory_Safety",
   "language": "python",
   "name": "python3"
  },
  "language_info": {
   "codemirror_mode": {
    "name": "ipython",
    "version": 3
   },
   "file_extension": ".py",
   "mimetype": "text/x-python",
   "name": "python",
   "nbconvert_exporter": "python",
   "pygments_lexer": "ipython3",
   "version": "3.9.18"
  }
 },
 "nbformat": 4,
 "nbformat_minor": 2
}
