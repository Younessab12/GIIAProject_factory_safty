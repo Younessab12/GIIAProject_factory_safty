{
 "cells": [
  {
   "cell_type": "code",
   "execution_count": 1,
   "metadata": {},
   "outputs": [
    {
     "ename": "FileExistsError",
     "evalue": "[WinError 183] Cannot create a file when that file already exists: 'data/img_1.jpg' -> 'data/img_batch2_1.jpg'",
     "output_type": "error",
     "traceback": [
      "\u001b[1;31m---------------------------------------------------------------------------\u001b[0m",
      "\u001b[1;31mFileExistsError\u001b[0m                           Traceback (most recent call last)",
      "\u001b[1;32mc:\\Users\\Dell Latitude 5420\\Desktop\\IA\\GIIAProject_factory_safty\\smokingDetection\\jpeg_to_jpg&rename.ipynb Cell 1\u001b[0m line \u001b[0;36m2\n\u001b[0;32m     <a href='vscode-notebook-cell:/c%3A/Users/Dell%20Latitude%205420/Desktop/IA/GIIAProject_factory_safty/smokingDetection/jpeg_to_jpg%26rename.ipynb#W0sZmlsZQ%3D%3D?line=19'>20</a>\u001b[0m     destination \u001b[39m=\u001b[39m folder \u001b[39m+\u001b[39m \u001b[39mf\u001b[39m\u001b[39m'\u001b[39m\u001b[39mimg_batch2_\u001b[39m\u001b[39m{\u001b[39;00mcount\u001b[39m}\u001b[39;00m\u001b[39m'\u001b[39m \u001b[39m+\u001b[39m \u001b[39m\"\u001b[39m\u001b[39m.\u001b[39m\u001b[39m\"\u001b[39m \u001b[39m+\u001b[39m ext\n\u001b[0;32m     <a href='vscode-notebook-cell:/c%3A/Users/Dell%20Latitude%205420/Desktop/IA/GIIAProject_factory_safty/smokingDetection/jpeg_to_jpg%26rename.ipynb#W0sZmlsZQ%3D%3D?line=21'>22</a>\u001b[0m     \u001b[39m# Renaming the file\u001b[39;00m\n\u001b[1;32m---> <a href='vscode-notebook-cell:/c%3A/Users/Dell%20Latitude%205420/Desktop/IA/GIIAProject_factory_safty/smokingDetection/jpeg_to_jpg%26rename.ipynb#W0sZmlsZQ%3D%3D?line=22'>23</a>\u001b[0m     os\u001b[39m.\u001b[39;49mrename(source, destination)\n\u001b[0;32m     <a href='vscode-notebook-cell:/c%3A/Users/Dell%20Latitude%205420/Desktop/IA/GIIAProject_factory_safty/smokingDetection/jpeg_to_jpg%26rename.ipynb#W0sZmlsZQ%3D%3D?line=23'>24</a>\u001b[0m     count \u001b[39m+\u001b[39m\u001b[39m=\u001b[39m \u001b[39m1\u001b[39m\n\u001b[0;32m     <a href='vscode-notebook-cell:/c%3A/Users/Dell%20Latitude%205420/Desktop/IA/GIIAProject_factory_safty/smokingDetection/jpeg_to_jpg%26rename.ipynb#W0sZmlsZQ%3D%3D?line=25'>26</a>\u001b[0m \u001b[39mprint\u001b[39m(\u001b[39m'\u001b[39m\u001b[39mAll Files Renamed\u001b[39m\u001b[39m'\u001b[39m)\n",
      "\u001b[1;31mFileExistsError\u001b[0m: [WinError 183] Cannot create a file when that file already exists: 'data/img_1.jpg' -> 'data/img_batch2_1.jpg'"
     ]
    }
   ],
   "source": [
    "import os\n",
    "\n",
    "folder = r'data/'\n",
    "count = 1\n",
    "# count increase by 1 in each iteration\n",
    "# iterate all files from a directory\n",
    "\n",
    "mp = {}\n",
    "for file_name in os.listdir(folder):\n",
    "    # Construct old file name\n",
    "    source = folder + file_name\n",
    "    ext = file_name.split('.')[-1]\n",
    "\n",
    "    if ext in mp.keys():\n",
    "        mp[ext]+=1\n",
    "    else :\n",
    "        mp[ext]=1\n",
    "\n",
    "    # Adding the count to the new file name and extension\n",
    "    destination = folder + f'img_batch3_{count}' + \".\" + ext\n",
    "\n",
    "    # Renaming the file\n",
    "    os.rename(source, destination)\n",
    "    count += 1\n",
    "\n",
    "print('All Files Renamed')\n",
    "\n",
    "# verify the result\n",
    "res = os.listdir(folder)\n",
    "print(res)\n",
    "\n",
    "print(mp)"
   ]
  },
  {
   "cell_type": "code",
   "execution_count": 2,
   "metadata": {},
   "outputs": [],
   "source": [
    "import cv2\n",
    "\n",
    "path = r'./data/'\n",
    "for file in os.listdir(path):\n",
    "    if file.endswith(\".jpeg\") or file.endswith(\".png\") or file.endswith(\".webp\"):\n",
    "        img = cv2.imread(path+str(file))\n",
    "        cv2.imwrite(path+str(file[:-5])+\"-converted.jpg\", img)\n",
    "        os.remove(path+file)"
   ]
  },
  {
   "cell_type": "code",
   "execution_count": 4,
   "metadata": {},
   "outputs": [
    {
     "name": "stdout",
     "output_type": "stream",
     "text": [
      "73\n"
     ]
    }
   ],
   "source": [
    "path = r'./data/'\n",
    "count=0\n",
    "for file in os.listdir(path):\n",
    "    if len(file.split('-'))>=2 and file.split('-')[1]==\"converted.jpg\":\n",
    "        os.rename(path+file, path+file.split('-')[0]+\".jpg\")\n",
    "        count+=1\n",
    "print(count)"
   ]
  },
  {
   "cell_type": "code",
   "execution_count": null,
   "metadata": {},
   "outputs": [],
   "source": []
  }
 ],
 "metadata": {
  "kernelspec": {
   "display_name": "giia",
   "language": "python",
   "name": "python3"
  },
  "language_info": {
   "codemirror_mode": {
    "name": "ipython",
    "version": 3
   },
   "file_extension": ".py",
   "mimetype": "text/x-python",
   "name": "python",
   "nbconvert_exporter": "python",
   "pygments_lexer": "ipython3",
   "version": "3.9.18"
  }
 },
 "nbformat": 4,
 "nbformat_minor": 2
}
