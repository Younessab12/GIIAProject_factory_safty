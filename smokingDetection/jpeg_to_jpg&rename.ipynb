{
 "cells": [
  {
   "cell_type": "code",
   "execution_count": 6,
   "metadata": {},
   "outputs": [
    {
     "name": "stdout",
     "output_type": "stream",
     "text": [
      "All Files Renamed\n",
      "['img_batch2_1.jpg', 'img_batch2_10.jpg', 'img_batch2_11.jpg', 'img_batch2_12.jpg', 'img_batch2_13.jpg', 'img_batch2_14.jpg', 'img_batch2_15.jpg', 'img_batch2_16.jpg', 'img_batch2_17.jpg', 'img_batch2_18.jpg', 'img_batch2_19.jpg', 'img_batch2_2.jpg', 'img_batch2_20.jpg', 'img_batch2_21.jpg', 'img_batch2_22.jpg', 'img_batch2_23.jpg', 'img_batch2_24.jpg', 'img_batch2_25.jpg', 'img_batch2_26.jpg', 'img_batch2_27.jpg', 'img_batch2_28.jpg', 'img_batch2_29.jpg', 'img_batch2_3.png', 'img_batch2_30.jpg', 'img_batch2_31.jpg', 'img_batch2_32.jpg', 'img_batch2_33.jpg', 'img_batch2_34.jpg', 'img_batch2_35.jpg', 'img_batch2_36.jpg', 'img_batch2_37.jpg', 'img_batch2_38.jpg', 'img_batch2_39.jpg', 'img_batch2_4.jpg', 'img_batch2_40.jpg', 'img_batch2_41.jpg', 'img_batch2_42.jpg', 'img_batch2_43.jpg', 'img_batch2_44.jpg', 'img_batch2_45.jpg', 'img_batch2_46.jpg', 'img_batch2_47.jpg', 'img_batch2_48.jpg', 'img_batch2_49.jpg', 'img_batch2_5.jpg', 'img_batch2_50.jpg', 'img_batch2_51.jpg', 'img_batch2_52.jpg', 'img_batch2_53.jpg', 'img_batch2_54.jpg', 'img_batch2_55.jpg', 'img_batch2_56.jpg', 'img_batch2_57.jpg', 'img_batch2_58.jpg', 'img_batch2_59.jpg', 'img_batch2_6.jpg', 'img_batch2_60.jpg', 'img_batch2_61.jpg', 'img_batch2_62.jpg', 'img_batch2_63.jpg', 'img_batch2_64.jpg', 'img_batch2_65.jpg', 'img_batch2_66.jpg', 'img_batch2_67.jpg', 'img_batch2_68.jpg', 'img_batch2_69.jpg', 'img_batch2_7.jpg', 'img_batch2_70.jpg', 'img_batch2_71.jpg', 'img_batch2_72.jpg', 'img_batch2_73.jpg', 'img_batch2_74.jpg', 'img_batch2_75.jpg', 'img_batch2_76.jpg', 'img_batch2_77.jpg', 'img_batch2_78.jpg', 'img_batch2_79.jpg', 'img_batch2_8.jpg', 'img_batch2_80.jpg', 'img_batch2_81.jpg', 'img_batch2_82.jpg', 'img_batch2_83.jpg', 'img_batch2_84.jpg', 'img_batch2_85.jpg', 'img_batch2_86.jpg', 'img_batch2_87.jpg', 'img_batch2_88.jpg', 'img_batch2_9.jpg']\n",
      "{'jpg': 87, 'png': 1}\n"
     ]
    }
   ],
   "source": [
    "import os\n",
    "\n",
    "folder = r'batch_2_smoke/'\n",
    "count = 1\n",
    "# count increase by 1 in each iteration\n",
    "# iterate all files from a directory\n",
    "\n",
    "mp = {}\n",
    "for file_name in os.listdir(folder):\n",
    "    # Construct old file name\n",
    "    source = folder + file_name\n",
    "    ext = file_name.split('.')[-1]\n",
    "\n",
    "    if ext in mp.keys():\n",
    "        mp[ext]+=1\n",
    "    else :\n",
    "        mp[ext]=1\n",
    "\n",
    "    # Adding the count to the new file name and extension\n",
    "    destination = folder + f'img_batch2_{count}' + \".\" + ext\n",
    "\n",
    "    # Renaming the file\n",
    "    os.rename(source, destination)\n",
    "    count += 1\n",
    "\n",
    "print('All Files Renamed')\n",
    "\n",
    "# verify the result\n",
    "res = os.listdir(folder)\n",
    "print(res)\n",
    "\n",
    "print(mp)"
   ]
  },
  {
   "cell_type": "code",
   "execution_count": 4,
   "metadata": {},
   "outputs": [],
   "source": [
    "import cv2\n",
    "\n",
    "path = r'./batch_2_smoke/'\n",
    "for file in os.listdir(path):\n",
    "    if file.endswith(\".jpeg\"):\n",
    "        img = cv2.imread(path+str(file))\n",
    "        cv2.imwrite(path+str(file[:-5])+\"-converted.jpg\", img)\n",
    "        os.remove(path+file)"
   ]
  }
 ],
 "metadata": {
  "kernelspec": {
   "display_name": "giia",
   "language": "python",
   "name": "python3"
  },
  "language_info": {
   "codemirror_mode": {
    "name": "ipython",
    "version": 3
   },
   "file_extension": ".py",
   "mimetype": "text/x-python",
   "name": "python",
   "nbconvert_exporter": "python",
   "pygments_lexer": "ipython3",
   "version": "3.9.18"
  }
 },
 "nbformat": 4,
 "nbformat_minor": 2
}
