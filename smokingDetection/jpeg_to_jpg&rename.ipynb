{
 "cells": [
  {
   "cell_type": "code",
   "execution_count": 3,
   "metadata": {},
   "outputs": [
    {
     "name": "stdout",
     "output_type": "stream",
     "text": [
      "All Files Renamed\n",
      "['img_batch3_1.jpg', 'img_batch3_10.jpg', 'img_batch3_100.jpg', 'img_batch3_101.jpg', 'img_batch3_102.jpg', 'img_batch3_103.jpg', 'img_batch3_104.jpg', 'img_batch3_105.jpg', 'img_batch3_106.jpg', 'img_batch3_107.jpg', 'img_batch3_108.jpg', 'img_batch3_109.jpg', 'img_batch3_11.jpg', 'img_batch3_110.jpg', 'img_batch3_111.jpg', 'img_batch3_112.jpg', 'img_batch3_113.jpg', 'img_batch3_114.jpg', 'img_batch3_115.jpg', 'img_batch3_116.jpg', 'img_batch3_117.jpg', 'img_batch3_12.jpg', 'img_batch3_13.jpg', 'img_batch3_14.jpg', 'img_batch3_15.jpg', 'img_batch3_16.jpg', 'img_batch3_17.jpg', 'img_batch3_18.jpg', 'img_batch3_19.jpg', 'img_batch3_2.jpg', 'img_batch3_20.jpg', 'img_batch3_21.jpg', 'img_batch3_22.jpg', 'img_batch3_23.jpg', 'img_batch3_24.jpg', 'img_batch3_25.jpg', 'img_batch3_26.jpg', 'img_batch3_27.jpg', 'img_batch3_28.jpg', 'img_batch3_29.jpg', 'img_batch3_3.jpg', 'img_batch3_30.jpg', 'img_batch3_31.jpg', 'img_batch3_32.jpg', 'img_batch3_33.jpg', 'img_batch3_34.jpg', 'img_batch3_35.jpg', 'img_batch3_36.jpg', 'img_batch3_37.jpg', 'img_batch3_38.jpg', 'img_batch3_39.jpg', 'img_batch3_4.jpg', 'img_batch3_40.jpg', 'img_batch3_41.jpg', 'img_batch3_42.jpg', 'img_batch3_43.jpg', 'img_batch3_44.jpg', 'img_batch3_45.jpg', 'img_batch3_46.jpg', 'img_batch3_47.jpg', 'img_batch3_48.jpg', 'img_batch3_49.jpg', 'img_batch3_5.jpg', 'img_batch3_50.jpg', 'img_batch3_51.jpg', 'img_batch3_52.jpg', 'img_batch3_53.jpg', 'img_batch3_54.jpg', 'img_batch3_55.jpg', 'img_batch3_56.jpg', 'img_batch3_57.jpg', 'img_batch3_58.jpg', 'img_batch3_59.jpg', 'img_batch3_6.jpg', 'img_batch3_60.jpg', 'img_batch3_61.jpg', 'img_batch3_62.jpg', 'img_batch3_63.jpg', 'img_batch3_64.jpg', 'img_batch3_65.jpg', 'img_batch3_66.jpg', 'img_batch3_67.jpg', 'img_batch3_68.jpg', 'img_batch3_69.jpg', 'img_batch3_7.jpg', 'img_batch3_70.jpg', 'img_batch3_71.jpg', 'img_batch3_72.jpg', 'img_batch3_73.jpg', 'img_batch3_74.jpg', 'img_batch3_75.jpg', 'img_batch3_76.jpg', 'img_batch3_77.jpg', 'img_batch3_78.jpg', 'img_batch3_79.jpg', 'img_batch3_8.jpg', 'img_batch3_80.jpg', 'img_batch3_81.jpg', 'img_batch3_82.jpg', 'img_batch3_83.jpg', 'img_batch3_84.jpg', 'img_batch3_85.jpg', 'img_batch3_86.jpg', 'img_batch3_87.jpg', 'img_batch3_88.jpg', 'img_batch3_89.jpg', 'img_batch3_9.jpg', 'img_batch3_90.jpg', 'img_batch3_91.jpg', 'img_batch3_92.jpg', 'img_batch3_93.jpg', 'img_batch3_94.jpg', 'img_batch3_95.jpg', 'img_batch3_96.jpg', 'img_batch3_97.jpg', 'img_batch3_98.jpg', 'img_batch3_99.jpg']\n",
      "{'jpg': 117}\n"
     ]
    }
   ],
   "source": [
    "import os\n",
    "\n",
    "folder = r'batch_3_smoke/'\n",
    "count = 1\n",
    "# count increase by 1 in each iteration\n",
    "# iterate all files from a directory\n",
    "\n",
    "mp = {}\n",
    "for file_name in os.listdir(folder):\n",
    "    # Construct old file name\n",
    "    source = folder + file_name\n",
    "    ext = file_name.split('.')[-1]\n",
    "\n",
    "    if ext in mp.keys():\n",
    "        mp[ext]+=1\n",
    "    else :\n",
    "        mp[ext]=1\n",
    "\n",
    "    # Adding the count to the new file name and extension\n",
    "    destination = folder + f'img_batch3_{count}' + \".\" + ext\n",
    "\n",
    "    # Renaming the file\n",
    "    os.rename(source, destination)\n",
    "    count += 1\n",
    "\n",
    "print('All Files Renamed')\n",
    "\n",
    "# verify the result\n",
    "res = os.listdir(folder)\n",
    "print(res)\n",
    "\n",
    "print(mp)"
   ]
  },
  {
   "cell_type": "code",
   "execution_count": 2,
   "metadata": {},
   "outputs": [],
   "source": [
    "import cv2\n",
    "\n",
    "path = r'./batch_3_smoke/'\n",
    "for file in os.listdir(path):\n",
    "    if file.endswith(\".jpeg\") or file.endswith(\".png\") or file.endswith(\".webp\"):\n",
    "        img = cv2.imread(path+str(file))\n",
    "        cv2.imwrite(path+str(file[:-5])+\"-converted.jpg\", img)\n",
    "        os.remove(path+file)"
   ]
  }
 ],
 "metadata": {
  "kernelspec": {
   "display_name": "giia",
   "language": "python",
   "name": "python3"
  },
  "language_info": {
   "codemirror_mode": {
    "name": "ipython",
    "version": 3
   },
   "file_extension": ".py",
   "mimetype": "text/x-python",
   "name": "python",
   "nbconvert_exporter": "python",
   "pygments_lexer": "ipython3",
   "version": "3.9.18"
  }
 },
 "nbformat": 4,
 "nbformat_minor": 2
}
