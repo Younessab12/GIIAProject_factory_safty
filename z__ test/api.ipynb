{
 "cells": [
  {
   "cell_type": "code",
   "execution_count": 30,
   "metadata": {},
   "outputs": [],
   "source": [
    "import requests\n",
    "import time\n",
    "import json"
   ]
  },
  {
   "cell_type": "code",
   "execution_count": 31,
   "metadata": {},
   "outputs": [],
   "source": [
    "class API:\n",
    "  def __init__(self, baseUrl, apiKey):\n",
    "    self.baseUrl = baseUrl\n",
    "    self.apiKey = apiKey\n",
    "\n",
    "  def reportActivity(self, activity):\n",
    "    \"\"\"\n",
    "      apiKey: z.string(),\n",
    "      operatorName: z.string(),\n",
    "      gravity: z.number(),\n",
    "      activityName: z.string(),\n",
    "      timestamp: z.string(),\n",
    "    \"\"\"\n",
    "    timestamp = int(time.time())\n",
    "    payload = {\n",
    "      'apiKey': self.apiKey,\n",
    "      'operatorName': activity['operatorName'],\n",
    "      'gravity': activity['gravity'],\n",
    "      'activityName': activity['activityName'],\n",
    "      'timestamp': timestamp\n",
    "    }\n",
    "    url = self.baseUrl + '/api/reportActivity'\n",
    "    return requests.post(url, json=payload)"
   ]
  },
  {
   "cell_type": "code",
   "execution_count": 32,
   "metadata": {},
   "outputs": [],
   "source": [
    "api = API('http://localhost:3000', 'ABCDE123')"
   ]
  },
  {
   "cell_type": "code",
   "execution_count": 34,
   "metadata": {},
   "outputs": [
    {
     "name": "stdout",
     "output_type": "stream",
     "text": [
      "{\"activityId\":6,\"activityName\":\"smoking\",\"description\":null,\"image\":null,\"timestamp\":\"1970-01-20T16:57:43.125Z\",\"createdAt\":\"2023-12-15T17:58:46.197Z\",\"gravity\":1,\"operatorId\":0,\"raspberryName\":\"0\"}\n"
     ]
    }
   ],
   "source": [
    "t = api.reportActivity({\n",
    "  'operatorName': 'aabibi',\n",
    "  'gravity': 1,\n",
    "  'activityName': 'smoking',\n",
    "})\n",
    "print(t.text)"
   ]
  }
 ],
 "metadata": {
  "kernelspec": {
   "display_name": "giia",
   "language": "python",
   "name": "python3"
  },
  "language_info": {
   "codemirror_mode": {
    "name": "ipython",
    "version": 3
   },
   "file_extension": ".py",
   "mimetype": "text/x-python",
   "name": "python",
   "nbconvert_exporter": "python",
   "pygments_lexer": "ipython3",
   "version": "3.9.18"
  }
 },
 "nbformat": 4,
 "nbformat_minor": 2
}
