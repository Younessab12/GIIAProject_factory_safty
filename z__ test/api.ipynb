{
 "cells": [
  {
   "cell_type": "code",
   "execution_count": 8,
   "metadata": {},
   "outputs": [],
   "source": [
    "import requests\n",
    "import time\n",
    "import json"
   ]
  },
  {
   "cell_type": "code",
   "execution_count": 9,
   "metadata": {},
   "outputs": [],
   "source": [
    "class API:\n",
    "  def __init__(self, baseUrl, apiKey):\n",
    "    self.baseUrl = baseUrl\n",
    "    self.apiKey = apiKey\n",
    "\n",
    "  def reportActivity(self, activity):\n",
    "    \"\"\"\n",
    "      apiKey: z.string(),\n",
    "      operatorName: z.string(),\n",
    "      gravity: z.number(),\n",
    "      activityName: z.string(),\n",
    "      timestamp: z.string(),\n",
    "    \"\"\"\n",
    "    timestamp = int(time.time())\n",
    "    payload = {\n",
    "      'apiKey': self.apiKey,\n",
    "      'operatorName': activity['operatorName'],\n",
    "      'gravity': activity['gravity'],\n",
    "      'activityName': activity['activityName'],\n",
    "      'timestamp': timestamp\n",
    "    }\n",
    "    url = self.baseUrl + '/api/reportActivity'\n",
    "    return requests.post(url, json=payload)"
   ]
  },
  {
   "cell_type": "code",
   "execution_count": 10,
   "metadata": {},
   "outputs": [],
   "source": [
    "api = API('http://localhost:3000', 'apinotvalid')"
   ]
  },
  {
   "cell_type": "code",
   "execution_count": 11,
   "metadata": {},
   "outputs": [
    {
     "name": "stdout",
     "output_type": "stream",
     "text": [
      "{\"activityId\":10,\"activityName\":\"smoking\",\"description\":null,\"image\":null,\"timestamp\":\"1970-01-20T16:57:30.282Z\",\"createdAt\":\"2023-12-15T14:24:43.000Z\",\"gravity\":1,\"operatorId\":4,\"raspberryName\":\"1\"}\n"
     ]
    }
   ],
   "source": [
    "t = api.reportActivity({\n",
    "  'operatorName': 'amine',\n",
    "  'gravity': 1,\n",
    "  'activityName': 'smoking',\n",
    "})\n",
    "print(t.text)"
   ]
  }
 ],
 "metadata": {
  "kernelspec": {
   "display_name": "giia",
   "language": "python",
   "name": "python3"
  },
  "language_info": {
   "codemirror_mode": {
    "name": "ipython",
    "version": 3
   },
   "file_extension": ".py",
   "mimetype": "text/x-python",
   "name": "python",
   "nbconvert_exporter": "python",
   "pygments_lexer": "ipython3",
   "version": "3.9.18"
  }
 },
 "nbformat": 4,
 "nbformat_minor": 2
}
